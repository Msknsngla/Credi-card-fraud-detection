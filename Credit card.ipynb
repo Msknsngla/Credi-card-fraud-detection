{
 "cells": [
  {
   "cell_type": "code",
   "execution_count": 1,
   "metadata": {},
   "outputs": [
    {
     "name": "stderr",
     "output_type": "stream",
     "text": [
      "C:\\Users\\91987\\Anaconda3\\lib\\site-packages\\statsmodels\\tools\\_testing.py:19: FutureWarning: pandas.util.testing is deprecated. Use the functions in the public API at pandas.testing instead.\n",
      "  import pandas.util.testing as tm\n"
     ]
    }
   ],
   "source": [
    "import numpy as np\n",
    "import pandas as pd\n",
    "import matplotlib.pyplot as plt\n",
    "import seaborn as sns"
   ]
  },
  {
   "cell_type": "code",
   "execution_count": 2,
   "metadata": {},
   "outputs": [
    {
     "data": {
      "text/html": [
       "<div>\n",
       "<style scoped>\n",
       "    .dataframe tbody tr th:only-of-type {\n",
       "        vertical-align: middle;\n",
       "    }\n",
       "\n",
       "    .dataframe tbody tr th {\n",
       "        vertical-align: top;\n",
       "    }\n",
       "\n",
       "    .dataframe thead th {\n",
       "        text-align: right;\n",
       "    }\n",
       "</style>\n",
       "<table border=\"1\" class=\"dataframe\">\n",
       "  <thead>\n",
       "    <tr style=\"text-align: right;\">\n",
       "      <th></th>\n",
       "      <th>Time</th>\n",
       "      <th>V1</th>\n",
       "      <th>V2</th>\n",
       "      <th>V3</th>\n",
       "      <th>V4</th>\n",
       "      <th>V5</th>\n",
       "      <th>V6</th>\n",
       "      <th>V7</th>\n",
       "      <th>V8</th>\n",
       "      <th>V9</th>\n",
       "      <th>...</th>\n",
       "      <th>V21</th>\n",
       "      <th>V22</th>\n",
       "      <th>V23</th>\n",
       "      <th>V24</th>\n",
       "      <th>V25</th>\n",
       "      <th>V26</th>\n",
       "      <th>V27</th>\n",
       "      <th>V28</th>\n",
       "      <th>Amount</th>\n",
       "      <th>Class</th>\n",
       "    </tr>\n",
       "  </thead>\n",
       "  <tbody>\n",
       "    <tr>\n",
       "      <th>0</th>\n",
       "      <td>0.0</td>\n",
       "      <td>-1.359807</td>\n",
       "      <td>-0.072781</td>\n",
       "      <td>2.536347</td>\n",
       "      <td>1.378155</td>\n",
       "      <td>-0.338321</td>\n",
       "      <td>0.462388</td>\n",
       "      <td>0.239599</td>\n",
       "      <td>0.098698</td>\n",
       "      <td>0.363787</td>\n",
       "      <td>...</td>\n",
       "      <td>-0.018307</td>\n",
       "      <td>0.277838</td>\n",
       "      <td>-0.110474</td>\n",
       "      <td>0.066928</td>\n",
       "      <td>0.128539</td>\n",
       "      <td>-0.189115</td>\n",
       "      <td>0.133558</td>\n",
       "      <td>-0.021053</td>\n",
       "      <td>149.62</td>\n",
       "      <td>0</td>\n",
       "    </tr>\n",
       "    <tr>\n",
       "      <th>1</th>\n",
       "      <td>0.0</td>\n",
       "      <td>1.191857</td>\n",
       "      <td>0.266151</td>\n",
       "      <td>0.166480</td>\n",
       "      <td>0.448154</td>\n",
       "      <td>0.060018</td>\n",
       "      <td>-0.082361</td>\n",
       "      <td>-0.078803</td>\n",
       "      <td>0.085102</td>\n",
       "      <td>-0.255425</td>\n",
       "      <td>...</td>\n",
       "      <td>-0.225775</td>\n",
       "      <td>-0.638672</td>\n",
       "      <td>0.101288</td>\n",
       "      <td>-0.339846</td>\n",
       "      <td>0.167170</td>\n",
       "      <td>0.125895</td>\n",
       "      <td>-0.008983</td>\n",
       "      <td>0.014724</td>\n",
       "      <td>2.69</td>\n",
       "      <td>0</td>\n",
       "    </tr>\n",
       "    <tr>\n",
       "      <th>2</th>\n",
       "      <td>1.0</td>\n",
       "      <td>-1.358354</td>\n",
       "      <td>-1.340163</td>\n",
       "      <td>1.773209</td>\n",
       "      <td>0.379780</td>\n",
       "      <td>-0.503198</td>\n",
       "      <td>1.800499</td>\n",
       "      <td>0.791461</td>\n",
       "      <td>0.247676</td>\n",
       "      <td>-1.514654</td>\n",
       "      <td>...</td>\n",
       "      <td>0.247998</td>\n",
       "      <td>0.771679</td>\n",
       "      <td>0.909412</td>\n",
       "      <td>-0.689281</td>\n",
       "      <td>-0.327642</td>\n",
       "      <td>-0.139097</td>\n",
       "      <td>-0.055353</td>\n",
       "      <td>-0.059752</td>\n",
       "      <td>378.66</td>\n",
       "      <td>0</td>\n",
       "    </tr>\n",
       "    <tr>\n",
       "      <th>3</th>\n",
       "      <td>1.0</td>\n",
       "      <td>-0.966272</td>\n",
       "      <td>-0.185226</td>\n",
       "      <td>1.792993</td>\n",
       "      <td>-0.863291</td>\n",
       "      <td>-0.010309</td>\n",
       "      <td>1.247203</td>\n",
       "      <td>0.237609</td>\n",
       "      <td>0.377436</td>\n",
       "      <td>-1.387024</td>\n",
       "      <td>...</td>\n",
       "      <td>-0.108300</td>\n",
       "      <td>0.005274</td>\n",
       "      <td>-0.190321</td>\n",
       "      <td>-1.175575</td>\n",
       "      <td>0.647376</td>\n",
       "      <td>-0.221929</td>\n",
       "      <td>0.062723</td>\n",
       "      <td>0.061458</td>\n",
       "      <td>123.50</td>\n",
       "      <td>0</td>\n",
       "    </tr>\n",
       "    <tr>\n",
       "      <th>4</th>\n",
       "      <td>2.0</td>\n",
       "      <td>-1.158233</td>\n",
       "      <td>0.877737</td>\n",
       "      <td>1.548718</td>\n",
       "      <td>0.403034</td>\n",
       "      <td>-0.407193</td>\n",
       "      <td>0.095921</td>\n",
       "      <td>0.592941</td>\n",
       "      <td>-0.270533</td>\n",
       "      <td>0.817739</td>\n",
       "      <td>...</td>\n",
       "      <td>-0.009431</td>\n",
       "      <td>0.798278</td>\n",
       "      <td>-0.137458</td>\n",
       "      <td>0.141267</td>\n",
       "      <td>-0.206010</td>\n",
       "      <td>0.502292</td>\n",
       "      <td>0.219422</td>\n",
       "      <td>0.215153</td>\n",
       "      <td>69.99</td>\n",
       "      <td>0</td>\n",
       "    </tr>\n",
       "  </tbody>\n",
       "</table>\n",
       "<p>5 rows × 31 columns</p>\n",
       "</div>"
      ],
      "text/plain": [
       "   Time        V1        V2        V3        V4        V5        V6        V7  \\\n",
       "0   0.0 -1.359807 -0.072781  2.536347  1.378155 -0.338321  0.462388  0.239599   \n",
       "1   0.0  1.191857  0.266151  0.166480  0.448154  0.060018 -0.082361 -0.078803   \n",
       "2   1.0 -1.358354 -1.340163  1.773209  0.379780 -0.503198  1.800499  0.791461   \n",
       "3   1.0 -0.966272 -0.185226  1.792993 -0.863291 -0.010309  1.247203  0.237609   \n",
       "4   2.0 -1.158233  0.877737  1.548718  0.403034 -0.407193  0.095921  0.592941   \n",
       "\n",
       "         V8        V9  ...       V21       V22       V23       V24       V25  \\\n",
       "0  0.098698  0.363787  ... -0.018307  0.277838 -0.110474  0.066928  0.128539   \n",
       "1  0.085102 -0.255425  ... -0.225775 -0.638672  0.101288 -0.339846  0.167170   \n",
       "2  0.247676 -1.514654  ...  0.247998  0.771679  0.909412 -0.689281 -0.327642   \n",
       "3  0.377436 -1.387024  ... -0.108300  0.005274 -0.190321 -1.175575  0.647376   \n",
       "4 -0.270533  0.817739  ... -0.009431  0.798278 -0.137458  0.141267 -0.206010   \n",
       "\n",
       "        V26       V27       V28  Amount  Class  \n",
       "0 -0.189115  0.133558 -0.021053  149.62      0  \n",
       "1  0.125895 -0.008983  0.014724    2.69      0  \n",
       "2 -0.139097 -0.055353 -0.059752  378.66      0  \n",
       "3 -0.221929  0.062723  0.061458  123.50      0  \n",
       "4  0.502292  0.219422  0.215153   69.99      0  \n",
       "\n",
       "[5 rows x 31 columns]"
      ]
     },
     "execution_count": 2,
     "metadata": {},
     "output_type": "execute_result"
    }
   ],
   "source": [
    "df=pd.read_csv(\"creditcard.csv\")\n",
    "df.head()"
   ]
  },
  {
   "cell_type": "code",
   "execution_count": 3,
   "metadata": {},
   "outputs": [
    {
     "data": {
      "text/plain": [
       "(284807, 31)"
      ]
     },
     "execution_count": 3,
     "metadata": {},
     "output_type": "execute_result"
    }
   ],
   "source": [
    "df.shape"
   ]
  },
  {
   "cell_type": "code",
   "execution_count": 4,
   "metadata": {},
   "outputs": [
    {
     "name": "stdout",
     "output_type": "stream",
     "text": [
      "<class 'pandas.core.frame.DataFrame'>\n",
      "RangeIndex: 284807 entries, 0 to 284806\n",
      "Data columns (total 31 columns):\n",
      " #   Column  Non-Null Count   Dtype  \n",
      "---  ------  --------------   -----  \n",
      " 0   Time    284807 non-null  float64\n",
      " 1   V1      284807 non-null  float64\n",
      " 2   V2      284807 non-null  float64\n",
      " 3   V3      284807 non-null  float64\n",
      " 4   V4      284807 non-null  float64\n",
      " 5   V5      284807 non-null  float64\n",
      " 6   V6      284807 non-null  float64\n",
      " 7   V7      284807 non-null  float64\n",
      " 8   V8      284807 non-null  float64\n",
      " 9   V9      284807 non-null  float64\n",
      " 10  V10     284807 non-null  float64\n",
      " 11  V11     284807 non-null  float64\n",
      " 12  V12     284807 non-null  float64\n",
      " 13  V13     284807 non-null  float64\n",
      " 14  V14     284807 non-null  float64\n",
      " 15  V15     284807 non-null  float64\n",
      " 16  V16     284807 non-null  float64\n",
      " 17  V17     284807 non-null  float64\n",
      " 18  V18     284807 non-null  float64\n",
      " 19  V19     284807 non-null  float64\n",
      " 20  V20     284807 non-null  float64\n",
      " 21  V21     284807 non-null  float64\n",
      " 22  V22     284807 non-null  float64\n",
      " 23  V23     284807 non-null  float64\n",
      " 24  V24     284807 non-null  float64\n",
      " 25  V25     284807 non-null  float64\n",
      " 26  V26     284807 non-null  float64\n",
      " 27  V27     284807 non-null  float64\n",
      " 28  V28     284807 non-null  float64\n",
      " 29  Amount  284807 non-null  float64\n",
      " 30  Class   284807 non-null  int64  \n",
      "dtypes: float64(30), int64(1)\n",
      "memory usage: 67.4 MB\n"
     ]
    }
   ],
   "source": [
    "df.info()"
   ]
  },
  {
   "cell_type": "code",
   "execution_count": 5,
   "metadata": {
    "scrolled": true
   },
   "outputs": [
    {
     "data": {
      "text/html": [
       "<div>\n",
       "<style scoped>\n",
       "    .dataframe tbody tr th:only-of-type {\n",
       "        vertical-align: middle;\n",
       "    }\n",
       "\n",
       "    .dataframe tbody tr th {\n",
       "        vertical-align: top;\n",
       "    }\n",
       "\n",
       "    .dataframe thead th {\n",
       "        text-align: right;\n",
       "    }\n",
       "</style>\n",
       "<table border=\"1\" class=\"dataframe\">\n",
       "  <thead>\n",
       "    <tr style=\"text-align: right;\">\n",
       "      <th></th>\n",
       "      <th>Time</th>\n",
       "      <th>V1</th>\n",
       "      <th>V2</th>\n",
       "      <th>V3</th>\n",
       "      <th>V4</th>\n",
       "      <th>V5</th>\n",
       "      <th>V6</th>\n",
       "      <th>V7</th>\n",
       "      <th>V8</th>\n",
       "      <th>V9</th>\n",
       "      <th>...</th>\n",
       "      <th>V21</th>\n",
       "      <th>V22</th>\n",
       "      <th>V23</th>\n",
       "      <th>V24</th>\n",
       "      <th>V25</th>\n",
       "      <th>V26</th>\n",
       "      <th>V27</th>\n",
       "      <th>V28</th>\n",
       "      <th>Amount</th>\n",
       "      <th>Class</th>\n",
       "    </tr>\n",
       "  </thead>\n",
       "  <tbody>\n",
       "    <tr>\n",
       "      <th>33</th>\n",
       "      <td>26.0</td>\n",
       "      <td>-0.529912</td>\n",
       "      <td>0.873892</td>\n",
       "      <td>1.347247</td>\n",
       "      <td>0.145457</td>\n",
       "      <td>0.414209</td>\n",
       "      <td>0.100223</td>\n",
       "      <td>0.711206</td>\n",
       "      <td>0.176066</td>\n",
       "      <td>-0.286717</td>\n",
       "      <td>...</td>\n",
       "      <td>0.046949</td>\n",
       "      <td>0.208105</td>\n",
       "      <td>-0.185548</td>\n",
       "      <td>0.001031</td>\n",
       "      <td>0.098816</td>\n",
       "      <td>-0.552904</td>\n",
       "      <td>-0.073288</td>\n",
       "      <td>0.023307</td>\n",
       "      <td>6.14</td>\n",
       "      <td>0</td>\n",
       "    </tr>\n",
       "    <tr>\n",
       "      <th>35</th>\n",
       "      <td>26.0</td>\n",
       "      <td>-0.535388</td>\n",
       "      <td>0.865268</td>\n",
       "      <td>1.351076</td>\n",
       "      <td>0.147575</td>\n",
       "      <td>0.433680</td>\n",
       "      <td>0.086983</td>\n",
       "      <td>0.693039</td>\n",
       "      <td>0.179742</td>\n",
       "      <td>-0.285642</td>\n",
       "      <td>...</td>\n",
       "      <td>0.049526</td>\n",
       "      <td>0.206537</td>\n",
       "      <td>-0.187108</td>\n",
       "      <td>0.000753</td>\n",
       "      <td>0.098117</td>\n",
       "      <td>-0.553471</td>\n",
       "      <td>-0.078306</td>\n",
       "      <td>0.025427</td>\n",
       "      <td>1.77</td>\n",
       "      <td>0</td>\n",
       "    </tr>\n",
       "    <tr>\n",
       "      <th>113</th>\n",
       "      <td>74.0</td>\n",
       "      <td>1.038370</td>\n",
       "      <td>0.127486</td>\n",
       "      <td>0.184456</td>\n",
       "      <td>1.109950</td>\n",
       "      <td>0.441699</td>\n",
       "      <td>0.945283</td>\n",
       "      <td>-0.036715</td>\n",
       "      <td>0.350995</td>\n",
       "      <td>0.118950</td>\n",
       "      <td>...</td>\n",
       "      <td>0.102520</td>\n",
       "      <td>0.605089</td>\n",
       "      <td>0.023092</td>\n",
       "      <td>-0.626463</td>\n",
       "      <td>0.479120</td>\n",
       "      <td>-0.166937</td>\n",
       "      <td>0.081247</td>\n",
       "      <td>0.001192</td>\n",
       "      <td>1.18</td>\n",
       "      <td>0</td>\n",
       "    </tr>\n",
       "    <tr>\n",
       "      <th>114</th>\n",
       "      <td>74.0</td>\n",
       "      <td>1.038370</td>\n",
       "      <td>0.127486</td>\n",
       "      <td>0.184456</td>\n",
       "      <td>1.109950</td>\n",
       "      <td>0.441699</td>\n",
       "      <td>0.945283</td>\n",
       "      <td>-0.036715</td>\n",
       "      <td>0.350995</td>\n",
       "      <td>0.118950</td>\n",
       "      <td>...</td>\n",
       "      <td>0.102520</td>\n",
       "      <td>0.605089</td>\n",
       "      <td>0.023092</td>\n",
       "      <td>-0.626463</td>\n",
       "      <td>0.479120</td>\n",
       "      <td>-0.166937</td>\n",
       "      <td>0.081247</td>\n",
       "      <td>0.001192</td>\n",
       "      <td>1.18</td>\n",
       "      <td>0</td>\n",
       "    </tr>\n",
       "    <tr>\n",
       "      <th>115</th>\n",
       "      <td>74.0</td>\n",
       "      <td>1.038370</td>\n",
       "      <td>0.127486</td>\n",
       "      <td>0.184456</td>\n",
       "      <td>1.109950</td>\n",
       "      <td>0.441699</td>\n",
       "      <td>0.945283</td>\n",
       "      <td>-0.036715</td>\n",
       "      <td>0.350995</td>\n",
       "      <td>0.118950</td>\n",
       "      <td>...</td>\n",
       "      <td>0.102520</td>\n",
       "      <td>0.605089</td>\n",
       "      <td>0.023092</td>\n",
       "      <td>-0.626463</td>\n",
       "      <td>0.479120</td>\n",
       "      <td>-0.166937</td>\n",
       "      <td>0.081247</td>\n",
       "      <td>0.001192</td>\n",
       "      <td>1.18</td>\n",
       "      <td>0</td>\n",
       "    </tr>\n",
       "    <tr>\n",
       "      <th>...</th>\n",
       "      <td>...</td>\n",
       "      <td>...</td>\n",
       "      <td>...</td>\n",
       "      <td>...</td>\n",
       "      <td>...</td>\n",
       "      <td>...</td>\n",
       "      <td>...</td>\n",
       "      <td>...</td>\n",
       "      <td>...</td>\n",
       "      <td>...</td>\n",
       "      <td>...</td>\n",
       "      <td>...</td>\n",
       "      <td>...</td>\n",
       "      <td>...</td>\n",
       "      <td>...</td>\n",
       "      <td>...</td>\n",
       "      <td>...</td>\n",
       "      <td>...</td>\n",
       "      <td>...</td>\n",
       "      <td>...</td>\n",
       "      <td>...</td>\n",
       "    </tr>\n",
       "    <tr>\n",
       "      <th>282987</th>\n",
       "      <td>171288.0</td>\n",
       "      <td>1.912550</td>\n",
       "      <td>-0.455240</td>\n",
       "      <td>-1.750654</td>\n",
       "      <td>0.454324</td>\n",
       "      <td>2.089130</td>\n",
       "      <td>4.160019</td>\n",
       "      <td>-0.881302</td>\n",
       "      <td>1.081750</td>\n",
       "      <td>1.022928</td>\n",
       "      <td>...</td>\n",
       "      <td>-0.524067</td>\n",
       "      <td>-1.337510</td>\n",
       "      <td>0.473943</td>\n",
       "      <td>0.616683</td>\n",
       "      <td>-0.283548</td>\n",
       "      <td>-1.084843</td>\n",
       "      <td>0.073133</td>\n",
       "      <td>-0.036020</td>\n",
       "      <td>11.99</td>\n",
       "      <td>0</td>\n",
       "    </tr>\n",
       "    <tr>\n",
       "      <th>283483</th>\n",
       "      <td>171627.0</td>\n",
       "      <td>-1.464380</td>\n",
       "      <td>1.368119</td>\n",
       "      <td>0.815992</td>\n",
       "      <td>-0.601282</td>\n",
       "      <td>-0.689115</td>\n",
       "      <td>-0.487154</td>\n",
       "      <td>-0.303778</td>\n",
       "      <td>0.884953</td>\n",
       "      <td>0.054065</td>\n",
       "      <td>...</td>\n",
       "      <td>0.287217</td>\n",
       "      <td>0.947825</td>\n",
       "      <td>-0.218773</td>\n",
       "      <td>0.082926</td>\n",
       "      <td>0.044127</td>\n",
       "      <td>0.639270</td>\n",
       "      <td>0.213565</td>\n",
       "      <td>0.119251</td>\n",
       "      <td>6.82</td>\n",
       "      <td>0</td>\n",
       "    </tr>\n",
       "    <tr>\n",
       "      <th>283485</th>\n",
       "      <td>171627.0</td>\n",
       "      <td>-1.457978</td>\n",
       "      <td>1.378203</td>\n",
       "      <td>0.811515</td>\n",
       "      <td>-0.603760</td>\n",
       "      <td>-0.711883</td>\n",
       "      <td>-0.471672</td>\n",
       "      <td>-0.282535</td>\n",
       "      <td>0.880654</td>\n",
       "      <td>0.052808</td>\n",
       "      <td>...</td>\n",
       "      <td>0.284205</td>\n",
       "      <td>0.949659</td>\n",
       "      <td>-0.216949</td>\n",
       "      <td>0.083250</td>\n",
       "      <td>0.044944</td>\n",
       "      <td>0.639933</td>\n",
       "      <td>0.219432</td>\n",
       "      <td>0.116772</td>\n",
       "      <td>11.93</td>\n",
       "      <td>0</td>\n",
       "    </tr>\n",
       "    <tr>\n",
       "      <th>284191</th>\n",
       "      <td>172233.0</td>\n",
       "      <td>-2.667936</td>\n",
       "      <td>3.160505</td>\n",
       "      <td>-3.355984</td>\n",
       "      <td>1.007845</td>\n",
       "      <td>-0.377397</td>\n",
       "      <td>-0.109730</td>\n",
       "      <td>-0.667233</td>\n",
       "      <td>2.309700</td>\n",
       "      <td>-1.639306</td>\n",
       "      <td>...</td>\n",
       "      <td>0.391483</td>\n",
       "      <td>0.266536</td>\n",
       "      <td>-0.079853</td>\n",
       "      <td>-0.096395</td>\n",
       "      <td>0.086719</td>\n",
       "      <td>-0.451128</td>\n",
       "      <td>-1.183743</td>\n",
       "      <td>-0.222200</td>\n",
       "      <td>55.66</td>\n",
       "      <td>0</td>\n",
       "    </tr>\n",
       "    <tr>\n",
       "      <th>284193</th>\n",
       "      <td>172233.0</td>\n",
       "      <td>-2.691642</td>\n",
       "      <td>3.123168</td>\n",
       "      <td>-3.339407</td>\n",
       "      <td>1.017018</td>\n",
       "      <td>-0.293095</td>\n",
       "      <td>-0.167054</td>\n",
       "      <td>-0.745886</td>\n",
       "      <td>2.325616</td>\n",
       "      <td>-1.634651</td>\n",
       "      <td>...</td>\n",
       "      <td>0.402639</td>\n",
       "      <td>0.259746</td>\n",
       "      <td>-0.086606</td>\n",
       "      <td>-0.097597</td>\n",
       "      <td>0.083693</td>\n",
       "      <td>-0.453584</td>\n",
       "      <td>-1.205466</td>\n",
       "      <td>-0.213020</td>\n",
       "      <td>36.74</td>\n",
       "      <td>0</td>\n",
       "    </tr>\n",
       "  </tbody>\n",
       "</table>\n",
       "<p>1081 rows × 31 columns</p>\n",
       "</div>"
      ],
      "text/plain": [
       "            Time        V1        V2        V3        V4        V5        V6  \\\n",
       "33          26.0 -0.529912  0.873892  1.347247  0.145457  0.414209  0.100223   \n",
       "35          26.0 -0.535388  0.865268  1.351076  0.147575  0.433680  0.086983   \n",
       "113         74.0  1.038370  0.127486  0.184456  1.109950  0.441699  0.945283   \n",
       "114         74.0  1.038370  0.127486  0.184456  1.109950  0.441699  0.945283   \n",
       "115         74.0  1.038370  0.127486  0.184456  1.109950  0.441699  0.945283   \n",
       "...          ...       ...       ...       ...       ...       ...       ...   \n",
       "282987  171288.0  1.912550 -0.455240 -1.750654  0.454324  2.089130  4.160019   \n",
       "283483  171627.0 -1.464380  1.368119  0.815992 -0.601282 -0.689115 -0.487154   \n",
       "283485  171627.0 -1.457978  1.378203  0.811515 -0.603760 -0.711883 -0.471672   \n",
       "284191  172233.0 -2.667936  3.160505 -3.355984  1.007845 -0.377397 -0.109730   \n",
       "284193  172233.0 -2.691642  3.123168 -3.339407  1.017018 -0.293095 -0.167054   \n",
       "\n",
       "              V7        V8        V9  ...       V21       V22       V23  \\\n",
       "33      0.711206  0.176066 -0.286717  ...  0.046949  0.208105 -0.185548   \n",
       "35      0.693039  0.179742 -0.285642  ...  0.049526  0.206537 -0.187108   \n",
       "113    -0.036715  0.350995  0.118950  ...  0.102520  0.605089  0.023092   \n",
       "114    -0.036715  0.350995  0.118950  ...  0.102520  0.605089  0.023092   \n",
       "115    -0.036715  0.350995  0.118950  ...  0.102520  0.605089  0.023092   \n",
       "...          ...       ...       ...  ...       ...       ...       ...   \n",
       "282987 -0.881302  1.081750  1.022928  ... -0.524067 -1.337510  0.473943   \n",
       "283483 -0.303778  0.884953  0.054065  ...  0.287217  0.947825 -0.218773   \n",
       "283485 -0.282535  0.880654  0.052808  ...  0.284205  0.949659 -0.216949   \n",
       "284191 -0.667233  2.309700 -1.639306  ...  0.391483  0.266536 -0.079853   \n",
       "284193 -0.745886  2.325616 -1.634651  ...  0.402639  0.259746 -0.086606   \n",
       "\n",
       "             V24       V25       V26       V27       V28  Amount  Class  \n",
       "33      0.001031  0.098816 -0.552904 -0.073288  0.023307    6.14      0  \n",
       "35      0.000753  0.098117 -0.553471 -0.078306  0.025427    1.77      0  \n",
       "113    -0.626463  0.479120 -0.166937  0.081247  0.001192    1.18      0  \n",
       "114    -0.626463  0.479120 -0.166937  0.081247  0.001192    1.18      0  \n",
       "115    -0.626463  0.479120 -0.166937  0.081247  0.001192    1.18      0  \n",
       "...          ...       ...       ...       ...       ...     ...    ...  \n",
       "282987  0.616683 -0.283548 -1.084843  0.073133 -0.036020   11.99      0  \n",
       "283483  0.082926  0.044127  0.639270  0.213565  0.119251    6.82      0  \n",
       "283485  0.083250  0.044944  0.639933  0.219432  0.116772   11.93      0  \n",
       "284191 -0.096395  0.086719 -0.451128 -1.183743 -0.222200   55.66      0  \n",
       "284193 -0.097597  0.083693 -0.453584 -1.205466 -0.213020   36.74      0  \n",
       "\n",
       "[1081 rows x 31 columns]"
      ]
     },
     "execution_count": 5,
     "metadata": {},
     "output_type": "execute_result"
    }
   ],
   "source": [
    "df[df.duplicated(keep='first')==True]"
   ]
  },
  {
   "cell_type": "code",
   "execution_count": 6,
   "metadata": {},
   "outputs": [],
   "source": [
    "df.drop_duplicates(keep = \"first\", inplace = True)"
   ]
  },
  {
   "cell_type": "code",
   "execution_count": 7,
   "metadata": {},
   "outputs": [
    {
     "data": {
      "image/png": "[encoded data removed]",
      "text/plain": [
       "<Figure size 432x288 with 1 Axes>"
      ]
     },
     "metadata": {
      "needs_background": "light"
     },
     "output_type": "display_data"
    }
   ],
   "source": [
    "ax = sns.countplot(x=\"Class\",data=df)"
   ]
  },
  {
   "cell_type": "code",
   "execution_count": 8,
   "metadata": {},
   "outputs": [
    {
     "data": {
      "text/plain": [
       "0    283253\n",
       "1       473\n",
       "Name: Class, dtype: int64"
      ]
     },
     "execution_count": 8,
     "metadata": {},
     "output_type": "execute_result"
    }
   ],
   "source": [
    "df[\"Class\"].value_counts()"
   ]
  },
  {
   "cell_type": "code",
   "execution_count": 9,
   "metadata": {},
   "outputs": [
    {
     "data": {
      "image/png": "[encoded data removed]",
      "text/plain": [
       "<Figure size 432x288 with 1 Axes>"
      ]
     },
     "metadata": {
      "needs_background": "light"
     },
     "output_type": "display_data"
    }
   ],
   "source": [
    "sns.set_color_codes()\n",
    "ax = sns.distplot(df[\"Amount\"], color=\"g\")"
   ]
  },
  {
   "cell_type": "code",
   "execution_count": 10,
   "metadata": {},
   "outputs": [
    {
     "data": {
      "image/png": "[encoded data removed]",
      "text/plain": [
       "<Figure size 432x288 with 1 Axes>"
      ]
     },
     "metadata": {
      "needs_background": "light"
     },
     "output_type": "display_data"
    }
   ],
   "source": [
    "sns.set_color_codes()\n",
    "ax = sns.distplot(df[\"Time\"], color=\"g\")"
   ]
  },
  {
   "cell_type": "code",
   "execution_count": 11,
   "metadata": {},
   "outputs": [
    {
     "data": {
      "text/plain": [
       "<matplotlib.axes._subplots.AxesSubplot at 0x2441a0649c8>"
      ]
     },
     "execution_count": 11,
     "metadata": {},
     "output_type": "execute_result"
    },
    {
     "data": {
      "image/png": "[encoded data removed]",
      "text/plain": [
       "<Figure size 432x288 with 2 Axes>"
      ]
     },
     "metadata": {
      "needs_background": "light"
     },
     "output_type": "display_data"
    }
   ],
   "source": [
    "sns.heatmap(df.corr())"
   ]
  },
  {
   "cell_type": "code",
   "execution_count": 12,
   "metadata": {},
   "outputs": [
    {
     "data": {
      "text/plain": [
       "<matplotlib.axes._subplots.AxesSubplot at 0x2441a12db48>"
      ]
     },
     "execution_count": 12,
     "metadata": {},
     "output_type": "execute_result"
    },
    {
     "data": {
      "image/png": "[encoded data removed]",
      "text/plain": [
       "<Figure size 432x288 with 1 Axes>"
      ]
     },
     "metadata": {
      "needs_background": "light"
     },
     "output_type": "display_data"
    }
   ],
   "source": [
    "sns.scatterplot(x=\"Amount\",y=\"Class\",data=df)"
   ]
  },
  {
   "cell_type": "code",
   "execution_count": 13,
   "metadata": {},
   "outputs": [
    {
     "data": {
      "text/plain": [
       "<matplotlib.axes._subplots.AxesSubplot at 0x2441a1cbc88>"
      ]
     },
     "execution_count": 13,
     "metadata": {},
     "output_type": "execute_result"
    },
    {
     "data": {
      "image/png": "[encoded data removed]",
      "text/plain": [
       "<Figure size 432x288 with 1 Axes>"
      ]
     },
     "metadata": {
      "needs_background": "light"
     },
     "output_type": "display_data"
    }
   ],
   "source": [
    "sns.scatterplot(x=\"Time\",y=\"Class\",data=df)"
   ]
  },
  {
   "cell_type": "code",
   "execution_count": 14,
   "metadata": {},
   "outputs": [
    {
     "name": "stderr",
     "output_type": "stream",
     "text": [
      "No handles with labels found to put in legend.\n"
     ]
    },
    {
     "data": {
      "image/png": "[encoded data removed]",
      "text/plain": [
       "<Figure size 432x216 with 2 Axes>"
      ]
     },
     "metadata": {
      "needs_background": "light"
     },
     "output_type": "display_data"
    }
   ],
   "source": [
    "bins = np.linspace(df.Time.min(), df.Time.max(), 20)\n",
    "g = sns.FacetGrid(df, col=\"Class\", palette=\"Set1\", col_wrap=2)\n",
    "g.map(plt.hist, 'Time', bins=bins, ec=\"k\")\n",
    "\n",
    "g.axes[-1].legend()\n",
    "plt.show()"
   ]
  },
  {
   "cell_type": "code",
   "execution_count": 15,
   "metadata": {
    "scrolled": true
   },
   "outputs": [
    {
     "data": {
      "text/plain": [
       "<matplotlib.axes._subplots.AxesSubplot at 0x2441a317588>"
      ]
     },
     "execution_count": 15,
     "metadata": {},
     "output_type": "execute_result"
    },
    {
     "data": {
      "image/png": "[encoded data removed]",
      "text/plain": [
       "<Figure size 432x432 with 1 Axes>"
      ]
     },
     "metadata": {
      "needs_background": "light"
     },
     "output_type": "display_data"
    }
   ],
   "source": [
    "wn_carrier = df[df['Class'] == 1]\n",
    "wn_carrier['Time'].hist(bins=10,figsize=[6,6])"
   ]
  },
  {
   "cell_type": "code",
   "execution_count": 16,
   "metadata": {},
   "outputs": [],
   "source": [
    "X=df.drop(\"Class\",axis=1)\n",
    "y=df[\"Class\"]"
   ]
  },
  {
   "cell_type": "code",
   "execution_count": 17,
   "metadata": {},
   "outputs": [],
   "source": [
    "from sklearn.model_selection import train_test_split\n",
    "X_train, X_test, y_train, y_test = train_test_split(X, y, test_size=0.33, random_state=101)"
   ]
  },
  {
   "cell_type": "code",
   "execution_count": 18,
   "metadata": {},
   "outputs": [],
   "source": [
    "from imblearn.over_sampling import ADASYN\n",
    "from imblearn.under_sampling import EditedNearestNeighbours\n",
    "from sklearn.ensemble import RandomForestClassifier\n",
    "from sklearn.metrics import recall_score\n",
    "from sklearn.metrics import f1_score"
   ]
  },
  {
   "cell_type": "code",
   "execution_count": 19,
   "metadata": {},
   "outputs": [
    {
     "name": "stdout",
     "output_type": "stream",
     "text": [
      "Validation set F1-Score:  0.8447653429602888\n"
     ]
    }
   ],
   "source": [
    "model = RandomForestClassifier(min_samples_leaf=5 ,random_state=123)\n",
    "model.fit(X_train, y_train)\n",
    "print('Validation set F1-Score: ', \n",
    "      f1_score(y_test, model.predict(X_test)))"
   ]
  },
  {
   "cell_type": "code",
   "execution_count": 20,
   "metadata": {},
   "outputs": [
    {
     "data": {
      "text/plain": [
       "pandas.core.frame.DataFrame"
      ]
     },
     "execution_count": 20,
     "metadata": {},
     "output_type": "execute_result"
    }
   ],
   "source": [
    "type(X_train)"
   ]
  },
  {
   "cell_type": "code",
   "execution_count": 21,
   "metadata": {},
   "outputs": [
    {
     "name": "stdout",
     "output_type": "stream",
     "text": [
      "Resampled dataset after ADASYN shape Counter({1: 189837, 0: 189775})\n"
     ]
    }
   ],
   "source": [
    "from collections import Counter\n",
    "ada = ADASYN(random_state=42)\n",
    "X_ada, y_ada = ada.fit_resample(X_train, y_train)\n",
    "print('Resampled dataset after ADASYN shape %s' % Counter(y_ada))"
   ]
  },
  {
   "cell_type": "code",
   "execution_count": 22,
   "metadata": {},
   "outputs": [
    {
     "name": "stdout",
     "output_type": "stream",
     "text": [
      "Validation set f1 score:  0.862876254180602\n"
     ]
    }
   ],
   "source": [
    "ada_model = RandomForestClassifier(min_samples_leaf=5,\n",
    "                                   random_state=123)\n",
    "ada_model.fit(X_ada, y_ada)\n",
    "print('Validation set f1 score: ', \n",
    "      f1_score(y_test, ada_model.predict(X_test)))"
   ]
  },
  {
   "cell_type": "code",
   "execution_count": 23,
   "metadata": {},
   "outputs": [
    {
     "name": "stdout",
     "output_type": "stream",
     "text": [
      "Resampled dataset after ENN shape Counter({0: 189457, 1: 321})\n"
     ]
    }
   ],
   "source": [
    "enn = EditedNearestNeighbours()\n",
    "X_enn, y_enn = enn.fit_resample(X_train, y_train)\n",
    "print('Resampled dataset after ENN shape %s' % Counter(y_enn))"
   ]
  },
  {
   "cell_type": "code",
   "execution_count": 24,
   "metadata": {},
   "outputs": [
    {
     "name": "stdout",
     "output_type": "stream",
     "text": [
      "Validation set f1 score:  0.8394160583941606\n"
     ]
    }
   ],
   "source": [
    "enn_model = RandomForestClassifier(min_samples_leaf=5,\n",
    "                                   random_state=123)\n",
    "enn_model.fit(X_enn, y_enn)\n",
    "print('Validation set f1 score: ', \n",
    "      f1_score(y_test, enn_model.predict(X_test)))"
   ]
  },
  {
   "cell_type": "code",
   "execution_count": 25,
   "metadata": {},
   "outputs": [
    {
     "name": "stdout",
     "output_type": "stream",
     "text": [
      "Resampled dataset after ADASYN shape Counter({0: 189775, 1: 189775})\n"
     ]
    }
   ],
   "source": [
    "from imblearn.over_sampling import SMOTE\n",
    "\n",
    "X_resampled, y_resampled = SMOTE().fit_sample(X_train, y_train)\n",
    "print('Resampled dataset after ADASYN shape %s' % Counter(y_resampled))"
   ]
  },
  {
   "cell_type": "code",
   "execution_count": 26,
   "metadata": {},
   "outputs": [
    {
     "name": "stdout",
     "output_type": "stream",
     "text": [
      "Validation set Recall:  0.862876254180602\n"
     ]
    }
   ],
   "source": [
    "smote_model = RandomForestClassifier(min_samples_leaf=5,\n",
    "                                   random_state=123)\n",
    "smote_model.fit(X_resampled, y_resampled)\n",
    "print('Validation set Recall: ', \n",
    "      f1_score(y_test, smote_model.predict(X_test)))"
   ]
  },
  {
   "cell_type": "code",
   "execution_count": 27,
   "metadata": {},
   "outputs": [],
   "source": [
    "from imblearn.under_sampling import NearMiss \n",
    "nr = NearMiss() \n",
    "  \n",
    "X_train_miss, y_train_miss = nr.fit_sample(X_train, y_train) "
   ]
  },
  {
   "cell_type": "code",
   "execution_count": 28,
   "metadata": {},
   "outputs": [
    {
     "name": "stdout",
     "output_type": "stream",
     "text": [
      "Validation set f1 score:  0.017460981881241407\n"
     ]
    }
   ],
   "source": [
    "near_model = RandomForestClassifier(min_samples_leaf=5,\n",
    "                                   random_state=123)\n",
    "near_model.fit(X_train_miss, y_train_miss)\n",
    "print('Validation set f1 score: ', \n",
    "      f1_score(y_test, near_model.predict(X_test)))"
   ]
  },
  {
   "cell_type": "code",
   "execution_count": 29,
   "metadata": {},
   "outputs": [],
   "source": [
    "Xada=X_ada.values"
   ]
  },
  {
   "cell_type": "code",
   "execution_count": 30,
   "metadata": {},
   "outputs": [
    {
     "data": {
      "text/plain": [
       "(379612, 30)"
      ]
     },
     "execution_count": 30,
     "metadata": {},
     "output_type": "execute_result"
    }
   ],
   "source": [
    "Xada.shape"
   ]
  },
  {
   "cell_type": "code",
   "execution_count": 31,
   "metadata": {},
   "outputs": [],
   "source": [
    "import tensorflow as tf\n",
    "from tensorflow.keras.models import Sequential\n",
    "from tensorflow.keras.layers import Dense, Activation,Dropout"
   ]
  },
  {
   "cell_type": "code",
   "execution_count": 32,
   "metadata": {},
   "outputs": [],
   "source": [
    "model = Sequential()\n",
    "\n",
    "# https://stats.stackexchange.com/questions/181/how-to-choose-the-number-of-hidden-layers-and-nodes-in-a-feedforward-neural-netw\n",
    "\n",
    "model.add(Dense(units=30,activation='relu'))\n",
    "\n",
    "model.add(Dense(units=15,activation='relu'))\n",
    "\n",
    "\n",
    "model.add(Dense(units=1,activation='sigmoid'))\n",
    "\n",
    "# For a binary classification problem\n",
    "model.compile(loss='binary_crossentropy', optimizer='adam')"
   ]
  },
  {
   "cell_type": "code",
   "execution_count": 33,
   "metadata": {},
   "outputs": [],
   "source": [
    "from tensorflow.keras.callbacks import EarlyStopping"
   ]
  },
  {
   "cell_type": "code",
   "execution_count": 34,
   "metadata": {},
   "outputs": [
    {
     "name": "stdout",
     "output_type": "stream",
     "text": [
      "Epoch 1/200\n",
      "11863/11863 [==============================] - 10s 850us/step - loss: 18.6242 - val_loss: 0.2546\n",
      "Epoch 2/200\n",
      "11863/11863 [==============================] - 10s 869us/step - loss: 3.3433 - val_loss: 4.5565\n",
      "Epoch 3/200\n",
      "11863/11863 [==============================] - 11s 906us/step - loss: 0.8953 - val_loss: 0.3042\n",
      "Epoch 4/200\n",
      "11863/11863 [==============================] - 10s 848us/step - loss: 0.2009 - val_loss: 0.1141\n",
      "Epoch 5/200\n",
      "11863/11863 [==============================] - 10s 871us/step - loss: 0.1456 - val_loss: 0.0569\n",
      "Epoch 6/200\n",
      "11863/11863 [==============================] - 11s 891us/step - loss: 0.1315 - val_loss: 0.1049\n",
      "Epoch 7/200\n",
      "11863/11863 [==============================] - 11s 933us/step - loss: 0.1243 - val_loss: 0.0380\n",
      "Epoch 8/200\n",
      "11863/11863 [==============================] - 11s 962us/step - loss: 0.1203 - val_loss: 0.1002\n",
      "Epoch 9/200\n",
      "11863/11863 [==============================] - 11s 915us/step - loss: 0.1183 - val_loss: 0.0458\n",
      "Epoch 10/200\n",
      "11863/11863 [==============================] - 10s 884us/step - loss: 0.1141 - val_loss: 0.0397\n",
      "Epoch 11/200\n",
      "11863/11863 [==============================] - 11s 913us/step - loss: 0.1144 - val_loss: 0.0712\n",
      "Epoch 12/200\n",
      "11863/11863 [==============================] - 11s 928us/step - loss: 0.1097 - val_loss: 0.0382\n",
      "Epoch 13/200\n",
      "11863/11863 [==============================] - 10s 807us/step - loss: 0.1105 - val_loss: 0.1851\n",
      "Epoch 14/200\n",
      "11863/11863 [==============================] - 11s 913us/step - loss: 0.1135 - val_loss: 0.1187\n",
      "Epoch 15/200\n",
      "11863/11863 [==============================] - 11s 896us/step - loss: 0.1072 - val_loss: 0.0497\n",
      "Epoch 16/200\n",
      "11863/11863 [==============================] - 10s 864us/step - loss: 0.1099 - val_loss: 0.0416\n",
      "Epoch 17/200\n",
      "11863/11863 [==============================] - 11s 892us/step - loss: 0.1059 - val_loss: 0.0549\n",
      "Epoch 18/200\n",
      "11863/11863 [==============================] - 11s 906us/step - loss: 0.1045 - val_loss: 0.0698\n",
      "Epoch 19/200\n",
      "11863/11863 [==============================] - 10s 836us/step - loss: 0.1036 - val_loss: 0.0925\n",
      "Epoch 20/200\n",
      "11863/11863 [==============================] - 11s 895us/step - loss: 0.1022 - val_loss: 0.0309\n",
      "Epoch 21/200\n",
      "11863/11863 [==============================] - 10s 833us/step - loss: 0.1003 - val_loss: 0.0466\n",
      "Epoch 22/200\n",
      "11863/11863 [==============================] - 10s 837us/step - loss: 0.1035 - val_loss: 0.0732\n",
      "Epoch 23/200\n",
      "11863/11863 [==============================] - 10s 852us/step - loss: 0.0971 - val_loss: 0.0341\n",
      "Epoch 24/200\n",
      "11863/11863 [==============================] - 10s 833us/step - loss: 0.1002 - val_loss: 0.1293\n",
      "Epoch 25/200\n",
      "11863/11863 [==============================] - 10s 854us/step - loss: 0.0960 - val_loss: 0.0566\n",
      "Epoch 26/200\n",
      "11863/11863 [==============================] - 10s 848us/step - loss: 0.0997 - val_loss: 0.0434\n",
      "Epoch 27/200\n",
      "11863/11863 [==============================] - 11s 944us/step - loss: 0.1025 - val_loss: 0.0858\n",
      "Epoch 28/200\n",
      "11863/11863 [==============================] - 14s 1ms/step - loss: 0.0951 - val_loss: 0.1376\n",
      "Epoch 29/200\n",
      "11863/11863 [==============================] - 13s 1ms/step - loss: 0.0947 - val_loss: 0.0318\n",
      "Epoch 30/200\n",
      "11863/11863 [==============================] - 11s 928us/step - loss: 0.0958 - val_loss: 0.0240\n",
      "Epoch 31/200\n",
      "11863/11863 [==============================] - 11s 899us/step - loss: 0.0950 - val_loss: 0.0788\n",
      "Epoch 32/200\n",
      "11863/11863 [==============================] - 11s 918us/step - loss: 0.0936 - val_loss: 0.0244\n",
      "Epoch 33/200\n",
      "11863/11863 [==============================] - 11s 901us/step - loss: 0.0927 - val_loss: 0.0575\n",
      "Epoch 34/200\n",
      "11863/11863 [==============================] - 10s 852us/step - loss: 0.0958 - val_loss: 0.1837\n",
      "Epoch 35/200\n",
      "11863/11863 [==============================] - 11s 904us/step - loss: 0.0917 - val_loss: 0.0668\n",
      "Epoch 36/200\n",
      "11863/11863 [==============================] - 10s 866us/step - loss: 0.0917 - val_loss: 0.1190\n",
      "Epoch 37/200\n",
      "11863/11863 [==============================] - 11s 949us/step - loss: 0.0890 - val_loss: 0.0501\n",
      "Epoch 38/200\n",
      "11863/11863 [==============================] - 11s 900us/step - loss: 0.0910 - val_loss: 0.1054\n",
      "Epoch 39/200\n",
      "11863/11863 [==============================] - 11s 910us/step - loss: 0.0902 - val_loss: 0.1873\n",
      "Epoch 40/200\n",
      "11863/11863 [==============================] - 11s 911us/step - loss: 0.0931 - val_loss: 0.0460\n",
      "Epoch 41/200\n",
      "11863/11863 [==============================] - 11s 923us/step - loss: 0.0896 - val_loss: 0.1285\n",
      "Epoch 42/200\n",
      "11863/11863 [==============================] - 11s 903us/step - loss: 0.0882 - val_loss: 0.0762\n",
      "Epoch 43/200\n",
      "11863/11863 [==============================] - 11s 886us/step - loss: 0.0876 - val_loss: 0.0431\n",
      "Epoch 44/200\n",
      "11863/11863 [==============================] - 11s 924us/step - loss: 0.0915 - val_loss: 0.1030\n",
      "Epoch 45/200\n",
      "11863/11863 [==============================] - 11s 948us/step - loss: 0.0894 - val_loss: 0.1249\n",
      "Epoch 46/200\n",
      "11863/11863 [==============================] - 11s 916us/step - loss: 0.0869 - val_loss: 0.0498\n",
      "Epoch 47/200\n",
      "11863/11863 [==============================] - 10s 885us/step - loss: 0.0902 - val_loss: 0.1289\n",
      "Epoch 48/200\n",
      "11863/11863 [==============================] - 12s 981us/step - loss: 0.0851 - val_loss: 0.1020\n",
      "Epoch 49/200\n",
      "11863/11863 [==============================] - 11s 903us/step - loss: 0.0862 - val_loss: 0.0641\n",
      "Epoch 50/200\n",
      "11863/11863 [==============================] - 13s 1ms/step - loss: 0.0887 - val_loss: 0.0180\n",
      "Epoch 51/200\n",
      "11863/11863 [==============================] - 11s 957us/step - loss: 0.0893 - val_loss: 0.1120\n",
      "Epoch 52/200\n",
      "11863/11863 [==============================] - 12s 1ms/step - loss: 0.0872 - val_loss: 0.0809\n",
      "Epoch 53/200\n",
      "11863/11863 [==============================] - 13s 1ms/step - loss: 0.0903 - val_loss: 0.0219\n",
      "Epoch 54/200\n",
      "11863/11863 [==============================] - 13s 1ms/step - loss: 0.0868 - val_loss: 0.1208\n",
      "Epoch 55/200\n",
      "11863/11863 [==============================] - 11s 953us/step - loss: 0.0910 - val_loss: 0.0434\n",
      "Epoch 56/200\n",
      "11863/11863 [==============================] - 11s 945us/step - loss: 0.0864 - val_loss: 0.0755\n",
      "Epoch 57/200\n",
      "11863/11863 [==============================] - 12s 1ms/step - loss: 0.0935 - val_loss: 0.0641\n",
      "Epoch 58/200\n",
      "11863/11863 [==============================] - 11s 944us/step - loss: 0.0905 - val_loss: 0.0486\n",
      "Epoch 59/200\n",
      "11863/11863 [==============================] - 11s 913us/step - loss: 0.0881 - val_loss: 0.0669\n",
      "Epoch 60/200\n",
      "11863/11863 [==============================] - 12s 979us/step - loss: 0.0874 - val_loss: 0.0731\n",
      "Epoch 61/200\n",
      "11863/11863 [==============================] - 10s 874us/step - loss: 0.0903 - val_loss: 0.0895\n",
      "Epoch 62/200\n",
      "11863/11863 [==============================] - 10s 864us/step - loss: 0.0877 - val_loss: 0.0552\n",
      "Epoch 63/200\n",
      "11863/11863 [==============================] - 10s 847us/step - loss: 0.1002 - val_loss: 0.0483\n",
      "Epoch 64/200\n",
      "11863/11863 [==============================] - 10s 855us/step - loss: 0.0857 - val_loss: 0.0526\n",
      "Epoch 65/200\n",
      "11863/11863 [==============================] - 11s 927us/step - loss: 0.0839 - val_loss: 0.0837\n",
      "Epoch 66/200\n",
      "11863/11863 [==============================] - 16s 1ms/step - loss: 0.0842 - val_loss: 0.0910\n",
      "Epoch 67/200\n",
      "11863/11863 [==============================] - 21s 2ms/step - loss: 0.0857 - val_loss: 0.0424\n",
      "Epoch 68/200\n",
      "11863/11863 [==============================] - 12s 1ms/step - loss: 0.0869 - val_loss: 0.0711\n",
      "Epoch 69/200\n",
      "11863/11863 [==============================] - 11s 951us/step - loss: 0.0893 - val_loss: 0.0414\n",
      "Epoch 70/200\n",
      "11863/11863 [==============================] - 12s 1ms/step - loss: 0.0858 - val_loss: 0.1246\n",
      "Epoch 71/200\n",
      "11863/11863 [==============================] - 12s 986us/step - loss: 0.0856 - val_loss: 0.1099\n",
      "Epoch 72/200\n",
      "11863/11863 [==============================] - 12s 1ms/step - loss: 0.0867 - val_loss: 0.1188\n",
      "Epoch 73/200\n",
      "11863/11863 [==============================] - 12s 1ms/step - loss: 0.0887 - val_loss: 0.0538\n",
      "Epoch 74/200\n",
      "11863/11863 [==============================] - 11s 948us/step - loss: 0.0837 - val_loss: 0.0439\n",
      "Epoch 75/200\n",
      "11863/11863 [==============================] - 11s 937us/step - loss: 0.0850 - val_loss: 0.0480\n",
      "Epoch 00075: early stopping\n"
     ]
    },
    {
     "data": {
      "text/plain": [
       "<tensorflow.python.keras.callbacks.History at 0x2444075bdc8>"
      ]
     },
     "execution_count": 34,
     "metadata": {},
     "output_type": "execute_result"
    }
   ],
   "source": [
    "early_stop = EarlyStopping(monitor='val_loss', mode='min', verbose=1, patience=25)\n",
    "model.fit(x=Xada, \n",
    "          y=y_ada, \n",
    "          epochs=200,\n",
    "          validation_data=(X_test, y_test), verbose=1,\n",
    "          callbacks=[early_stop]\n",
    "          )"
   ]
  },
  {
   "cell_type": "code",
   "execution_count": 35,
   "metadata": {},
   "outputs": [
    {
     "data": {
      "text/plain": [
       "<matplotlib.axes._subplots.AxesSubplot at 0x24440c86788>"
      ]
     },
     "execution_count": 35,
     "metadata": {},
     "output_type": "execute_result"
    },
    {
     "data": {
      "image/png": "[encoded data removed]",
      "text/plain": [
       "<Figure size 432x288 with 1 Axes>"
      ]
     },
     "metadata": {
      "needs_background": "light"
     },
     "output_type": "display_data"
    }
   ],
   "source": [
    "model_loss = pd.DataFrame(model.history.history)\n",
    "model_loss.plot()"
   ]
  },
  {
   "cell_type": "code",
   "execution_count": 36,
   "metadata": {},
   "outputs": [],
   "source": [
    "model = Sequential()\n",
    "model.add(Dense(units=30,activation='relu'))\n",
    "model.add(Dropout(0.5))\n",
    "\n",
    "model.add(Dense(units=15,activation='relu'))\n",
    "model.add(Dropout(0.5))\n",
    "\n",
    "model.add(Dense(units=1,activation='sigmoid'))\n",
    "model.compile(loss='binary_crossentropy', optimizer='adam')"
   ]
  },
  {
   "cell_type": "code",
   "execution_count": 37,
   "metadata": {},
   "outputs": [
    {
     "name": "stdout",
     "output_type": "stream",
     "text": [
      "Epoch 1/600\n",
      "11863/11863 [==============================] - 12s 1ms/step - loss: 113.3704 - val_loss: 0.6956\n",
      "Epoch 2/600\n",
      "11863/11863 [==============================] - 12s 999us/step - loss: 0.6942 - val_loss: 0.6907\n",
      "Epoch 3/600\n",
      "11863/11863 [==============================] - 11s 965us/step - loss: 0.6939 - val_loss: 0.6890\n",
      "Epoch 4/600\n",
      "11863/11863 [==============================] - 14s 1ms/step - loss: 0.6933 - val_loss: 0.7047\n",
      "Epoch 5/600\n",
      "11863/11863 [==============================] - 13s 1ms/step - loss: 0.6932 - val_loss: 0.6943\n",
      "Epoch 6/600\n",
      "11863/11863 [==============================] - 15s 1ms/step - loss: 0.6934 - val_loss: 0.7003\n",
      "Epoch 7/600\n",
      "11863/11863 [==============================] - 16s 1ms/step - loss: 0.6939 - val_loss: 0.6854\n",
      "Epoch 8/600\n",
      "11863/11863 [==============================] - 13s 1ms/step - loss: 0.6932 - val_loss: 0.7056\n",
      "Epoch 9/600\n",
      "11863/11863 [==============================] - 13s 1ms/step - loss: 0.6941 - val_loss: 0.6949\n",
      "Epoch 10/600\n",
      "11863/11863 [==============================] - 13s 1ms/step - loss: 0.6945 - val_loss: 0.6881\n",
      "Epoch 11/600\n",
      "11863/11863 [==============================] - 13s 1ms/step - loss: 0.6954 - val_loss: 0.6809\n",
      "Epoch 12/600\n",
      "11863/11863 [==============================] - 13s 1ms/step - loss: 0.6936 - val_loss: 0.6889\n",
      "Epoch 13/600\n",
      "11863/11863 [==============================] - 13s 1ms/step - loss: 0.6934 - val_loss: 0.6916\n",
      "Epoch 14/600\n",
      "11863/11863 [==============================] - 14s 1ms/step - loss: 0.6990 - val_loss: 0.6929\n",
      "Epoch 15/600\n",
      "11863/11863 [==============================] - 14s 1ms/step - loss: 0.6940 - val_loss: 0.6984\n",
      "Epoch 16/600\n",
      "11863/11863 [==============================] - 13s 1ms/step - loss: 0.6944 - val_loss: 0.6945\n",
      "Epoch 17/600\n",
      "11863/11863 [==============================] - 13s 1ms/step - loss: 0.6944 - val_loss: 0.6885\n",
      "Epoch 18/600\n",
      "11863/11863 [==============================] - 13s 1ms/step - loss: 0.6947 - val_loss: 0.6847\n",
      "Epoch 19/600\n",
      "11863/11863 [==============================] - 15s 1ms/step - loss: 0.6943 - val_loss: 0.7050\n",
      "Epoch 20/600\n",
      "11863/11863 [==============================] - 14s 1ms/step - loss: 0.6942 - val_loss: 0.6933\n",
      "Epoch 21/600\n",
      "11863/11863 [==============================] - 14s 1ms/step - loss: 0.6958 - val_loss: 0.6945\n",
      "Epoch 22/600\n",
      "11863/11863 [==============================] - 14s 1ms/step - loss: 0.6933 - val_loss: 0.6824\n",
      "Epoch 23/600\n",
      "11863/11863 [==============================] - 14s 1ms/step - loss: 0.6942 - val_loss: 0.6926\n",
      "Epoch 24/600\n",
      "11863/11863 [==============================] - 14s 1ms/step - loss: 0.6952 - val_loss: 0.6948\n",
      "Epoch 25/600\n",
      "11863/11863 [==============================] - 14s 1ms/step - loss: 0.6963 - val_loss: 0.6915\n",
      "Epoch 26/600\n",
      "11863/11863 [==============================] - 14s 1ms/step - loss: 0.6963 - val_loss: 0.6961\n",
      "Epoch 27/600\n",
      "11863/11863 [==============================] - 14s 1ms/step - loss: 0.6958 - val_loss: 0.6996\n",
      "Epoch 28/600\n",
      "11863/11863 [==============================] - 14s 1ms/step - loss: 0.6938 - val_loss: 0.6941\n",
      "Epoch 29/600\n",
      "11863/11863 [==============================] - 15s 1ms/step - loss: 0.6974 - val_loss: 0.6989\n",
      "Epoch 30/600\n",
      "11863/11863 [==============================] - 15s 1ms/step - loss: 0.6958 - val_loss: 0.6939\n",
      "Epoch 31/600\n",
      "11863/11863 [==============================] - 19s 2ms/step - loss: 0.6950 - val_loss: 0.6829\n",
      "Epoch 32/600\n",
      "11863/11863 [==============================] - 23s 2ms/step - loss: 0.6947 - val_loss: 0.6947\n",
      "Epoch 33/600\n",
      "11863/11863 [==============================] - 24s 2ms/step - loss: 0.6942 - val_loss: 0.7031\n",
      "Epoch 34/600\n",
      "11863/11863 [==============================] - 21s 2ms/step - loss: 0.6974 - val_loss: 0.6904\n",
      "Epoch 35/600\n",
      "11863/11863 [==============================] - 21s 2ms/step - loss: 0.6971 - val_loss: 0.6895\n",
      "Epoch 36/600\n",
      "11863/11863 [==============================] - 20s 2ms/step - loss: 0.6934 - val_loss: 0.6856\n",
      "Epoch 00036: early stopping\n"
     ]
    },
    {
     "data": {
      "text/plain": [
       "<tensorflow.python.keras.callbacks.History at 0x2444083a508>"
      ]
     },
     "execution_count": 37,
     "metadata": {},
     "output_type": "execute_result"
    }
   ],
   "source": [
    "model.fit(x=Xada, \n",
    "          y=y_ada, \n",
    "          epochs=600,\n",
    "          validation_data=(X_test, y_test), verbose=1,\n",
    "          callbacks=[early_stop]\n",
    "          )"
   ]
  },
  {
   "cell_type": "code",
   "execution_count": 38,
   "metadata": {},
   "outputs": [
    {
     "data": {
      "text/plain": [
       "<matplotlib.axes._subplots.AxesSubplot at 0x244409c4488>"
      ]
     },
     "execution_count": 38,
     "metadata": {},
     "output_type": "execute_result"
    },
    {
     "data": {
      "image/png": "[encoded data removed]",
      "text/plain": [
       "<Figure size 432x288 with 1 Axes>"
      ]
     },
     "metadata": {
      "needs_background": "light"
     },
     "output_type": "display_data"
    }
   ],
   "source": [
    "model_loss = pd.DataFrame(model.history.history)\n",
    "model_loss.plot()"
   ]
  },
  {
   "cell_type": "code",
   "execution_count": 39,
   "metadata": {},
   "outputs": [
    {
     "name": "stdout",
     "output_type": "stream",
     "text": [
      "WARNING:tensorflow:From <ipython-input-39-b575b4b9d939>:1: Sequential.predict_classes (from tensorflow.python.keras.engine.sequential) is deprecated and will be removed after 2021-01-01.\n",
      "Instructions for updating:\n",
      "Please use instead:* `np.argmax(model.predict(x), axis=-1)`,   if your model does multi-class classification   (e.g. if it uses a `softmax` last-layer activation).* `(model.predict(x) > 0.5).astype(\"int32\")`,   if your model does binary classification   (e.g. if it uses a `sigmoid` last-layer activation).\n"
     ]
    }
   ],
   "source": [
    "predictions = model.predict_classes(X_test)\n",
    "from sklearn.metrics import classification_report,confusion_matrix"
   ]
  },
  {
   "cell_type": "code",
   "execution_count": 40,
   "metadata": {},
   "outputs": [
    {
     "name": "stdout",
     "output_type": "stream",
     "text": [
      "              precision    recall  f1-score   support\n",
      "\n",
      "           0       1.00      1.00      1.00     93478\n",
      "           1       0.00      0.00      0.00       152\n",
      "\n",
      "    accuracy                           1.00     93630\n",
      "   macro avg       0.50      0.50      0.50     93630\n",
      "weighted avg       1.00      1.00      1.00     93630\n",
      "\n"
     ]
    },
    {
     "name": "stderr",
     "output_type": "stream",
     "text": [
      "C:\\Users\\91987\\Anaconda3\\lib\\site-packages\\sklearn\\metrics\\_classification.py:1221: UndefinedMetricWarning: Precision and F-score are ill-defined and being set to 0.0 in labels with no predicted samples. Use `zero_division` parameter to control this behavior.\n",
      "  _warn_prf(average, modifier, msg_start, len(result))\n"
     ]
    }
   ],
   "source": [
    "print(classification_report(y_test,predictions))"
   ]
  },
  {
   "cell_type": "code",
   "execution_count": 41,
   "metadata": {},
   "outputs": [
    {
     "name": "stdout",
     "output_type": "stream",
     "text": [
      "[[93478     0]\n",
      " [  152     0]]\n"
     ]
    }
   ],
   "source": [
    "print(confusion_matrix(y_test,predictions))"
   ]
  },
  {
   "cell_type": "code",
   "execution_count": 3,
   "metadata": {},
   "outputs": [],
   "source": [
    "import tensorflow as tf\n",
    "from tensorflow import keras\n",
    "\n",
    "import os\n",
    "import tempfile\n",
    "\n",
    "import matplotlib as mpl\n",
    "import matplotlib.pyplot as plt\n",
    "import numpy as np\n",
    "import pandas as pd\n",
    "import seaborn as sns\n",
    "\n",
    "import sklearn\n",
    "from sklearn.metrics import confusion_matrix\n",
    "from sklearn.model_selection import train_test_split\n",
    "from sklearn.preprocessing import StandardScaler"
   ]
  },
  {
   "cell_type": "code",
   "execution_count": 4,
   "metadata": {},
   "outputs": [],
   "source": [
    "mpl.rcParams['figure.figsize'] = (12, 10)\n",
    "colors = plt.rcParams['axes.prop_cycle'].by_key()['color']"
   ]
  },
  {
   "cell_type": "code",
   "execution_count": 5,
   "metadata": {},
   "outputs": [],
   "source": [
    "e=0.001\n",
    "df['Log Ammount'] = np.log(df.pop('Amount')+e)"
   ]
  },
  {
   "cell_type": "code",
   "execution_count": 6,
   "metadata": {},
   "outputs": [],
   "source": [
    "train_df, test_df = train_test_split(df, test_size=0.2)\n",
    "train_df, val_df = train_test_split(train_df, test_size=0.2)"
   ]
  },
  {
   "cell_type": "code",
   "execution_count": 7,
   "metadata": {},
   "outputs": [],
   "source": [
    "train_labels = np.array(train_df.pop('Class'))\n",
    "bool_train_labels = train_labels != 0\n",
    "val_labels = np.array(val_df.pop('Class'))\n",
    "test_labels = np.array(test_df.pop('Class'))\n",
    "\n",
    "train_features = np.array(train_df)\n",
    "val_features = np.array(val_df)\n",
    "test_features = np.array(test_df)"
   ]
  },
  {
   "cell_type": "code",
   "execution_count": 8,
   "metadata": {},
   "outputs": [],
   "source": [
    "scaler = StandardScaler()\n",
    "train_features = scaler.fit_transform(train_features)\n",
    "\n",
    "val_features = scaler.transform(val_features)\n",
    "test_features = scaler.transform(test_features)\n",
    "\n",
    "train_features = np.clip(train_features, -5, 5)\n",
    "val_features = np.clip(val_features, -5, 5)\n",
    "test_features = np.clip(test_features, -5, 5)\n"
   ]
  },
  {
   "cell_type": "code",
   "execution_count": 9,
   "metadata": {},
   "outputs": [],
   "source": [
    "import keras.backend as K"
   ]
  },
  {
   "cell_type": "code",
   "execution_count": 10,
   "metadata": {},
   "outputs": [],
   "source": [
    "def recall_m(y_true, y_pred):\n",
    "    true_positives = K.sum(K.round(K.clip(y_true * y_pred, 0, 1)))\n",
    "    possible_positives = K.sum(K.round(K.clip(y_true, 0, 1)))\n",
    "    recall = true_positives / (possible_positives + K.epsilon())\n",
    "    return recall\n",
    "\n",
    "def precision_m(y_true, y_pred):\n",
    "    true_positives = K.sum(K.round(K.clip(y_true * y_pred, 0, 1)))\n",
    "    predicted_positives = K.sum(K.round(K.clip(y_pred, 0, 1)))\n",
    "    precision = true_positives / (predicted_positives + K.epsilon())\n",
    "    return precision\n",
    "\n",
    "def f1_m(y_true, y_pred):\n",
    "    precision = precision_m(y_true, y_pred)\n",
    "    recall = recall_m(y_true, y_pred)\n",
    "    return 2*((precision*recall)/(precision+recall+K.epsilon()))"
   ]
  },
  {
   "cell_type": "code",
   "execution_count": 11,
   "metadata": {},
   "outputs": [],
   "source": [
    "METRICS = [\n",
    "      keras.metrics.TruePositives(name='tp'),\n",
    "      keras.metrics.FalsePositives(name='fp'),\n",
    "      keras.metrics.TrueNegatives(name='tn'),\n",
    "      keras.metrics.FalseNegatives(name='fn'), \n",
    "      keras.metrics.BinaryAccuracy(name='accuracy'),\n",
    "      keras.metrics.Precision(name='precision'),\n",
    "      keras.metrics.Recall(name='recall'),\n",
    "      keras.metrics.AUC(name='auc'),\n",
    "      f1_m\n",
    "]\n",
    "\n",
    "def make_model(metrics = METRICS, output_bias=None):\n",
    "    if output_bias is not None:\n",
    "        output_bias = tf.keras.initializers.Constant(output_bias)\n",
    "    model = keras.Sequential([\n",
    "      keras.layers.Dense(\n",
    "          16, activation='relu',\n",
    "          input_shape=(train_features.shape[-1],)),\n",
    "      keras.layers.Dropout(0.5),\n",
    "      keras.layers.Dense(1, activation='sigmoid',\n",
    "                         bias_initializer=output_bias),\n",
    "  ])\n",
    "\n",
    "    model.compile(\n",
    "      optimizer=keras.optimizers.Adam(lr=1e-3),\n",
    "      loss=keras.losses.BinaryCrossentropy(),\n",
    "      metrics=metrics)\n",
    "\n",
    "    return model"
   ]
  },
  {
   "cell_type": "code",
   "execution_count": 12,
   "metadata": {},
   "outputs": [],
   "source": [
    "EPOCHS = 100\n",
    "BATCH_SIZE = 2048\n",
    "\n",
    "early_stopping = tf.keras.callbacks.EarlyStopping(\n",
    "    monitor='val_auc', \n",
    "    verbose=1,\n",
    "    patience=10,\n",
    "    mode='max',\n",
    "    restore_best_weights=True)"
   ]
  },
  {
   "cell_type": "code",
   "execution_count": 13,
   "metadata": {},
   "outputs": [
    {
     "name": "stdout",
     "output_type": "stream",
     "text": [
      "Model: \"sequential\"\n",
      "_________________________________________________________________\n",
      "Layer (type)                 Output Shape              Param #   \n",
      "=================================================================\n",
      "dense (Dense)                (None, 16)                496       \n",
      "_________________________________________________________________\n",
      "dropout (Dropout)            (None, 16)                0         \n",
      "_________________________________________________________________\n",
      "dense_1 (Dense)              (None, 1)                 17        \n",
      "=================================================================\n",
      "Total params: 513\n",
      "Trainable params: 513\n",
      "Non-trainable params: 0\n",
      "_________________________________________________________________\n"
     ]
    }
   ],
   "source": [
    "model = make_model()\n",
    "model.summary()"
   ]
  },
  {
   "cell_type": "code",
   "execution_count": 14,
   "metadata": {},
   "outputs": [
    {
     "data": {
      "text/plain": [
       "array([[0.7350707 ],\n",
       "       [0.51198626],\n",
       "       [0.6418377 ],\n",
       "       [0.6767266 ],\n",
       "       [0.6966052 ],\n",
       "       [0.72036636],\n",
       "       [0.5024197 ],\n",
       "       [0.6747844 ],\n",
       "       [0.6787157 ],\n",
       "       [0.6849092 ]], dtype=float32)"
      ]
     },
     "execution_count": 14,
     "metadata": {},
     "output_type": "execute_result"
    }
   ],
   "source": [
    "model.predict(train_features[:10])"
   ]
  },
  {
   "cell_type": "code",
   "execution_count": 15,
   "metadata": {},
   "outputs": [
    {
     "name": "stdout",
     "output_type": "stream",
     "text": [
      "Examples:\n",
      "    Total: 284807\n",
      "    Positive: 492 (0.17% of total)\n",
      "\n"
     ]
    }
   ],
   "source": [
    "neg, pos = np.bincount(df['Class'])\n",
    "total = neg + pos\n",
    "print('Examples:\\n    Total: {}\\n    Positive: {} ({:.2f}% of total)\\n'.format(\n",
    "    total, pos, 100 * pos / total))"
   ]
  },
  {
   "cell_type": "code",
   "execution_count": 16,
   "metadata": {},
   "outputs": [
    {
     "data": {
      "text/plain": [
       "array([-6.35935934])"
      ]
     },
     "execution_count": 16,
     "metadata": {},
     "output_type": "execute_result"
    }
   ],
   "source": [
    "initial_bias = np.log([pos/neg])\n",
    "initial_bias"
   ]
  },
  {
   "cell_type": "code",
   "execution_count": 17,
   "metadata": {},
   "outputs": [
    {
     "data": {
      "text/plain": [
       "array([[3.6954880e-04],\n",
       "       [2.9765368e-03],\n",
       "       [9.9074841e-04],\n",
       "       [3.7810206e-04],\n",
       "       [7.5581670e-04],\n",
       "       [5.0947070e-04],\n",
       "       [9.2306262e-05],\n",
       "       [1.3579726e-03],\n",
       "       [2.8878450e-04],\n",
       "       [1.1421740e-03]], dtype=float32)"
      ]
     },
     "execution_count": 17,
     "metadata": {},
     "output_type": "execute_result"
    }
   ],
   "source": [
    "model = make_model(output_bias = initial_bias)\n",
    "model.predict(train_features[:10])"
   ]
  },
  {
   "cell_type": "code",
   "execution_count": 18,
   "metadata": {},
   "outputs": [],
   "source": [
    "initial_weights = os.path.join(tempfile.mkdtemp(),'initial_weights')\n",
    "model.save_weights(initial_weights)\n",
    "\n",
    "model = make_model()\n",
    "model.load_weights(initial_weights)\n",
    "model.layers[-1].bias.assign([0.0])\n",
    "zero_bias_history = model.fit(\n",
    "    train_features,\n",
    "    train_labels,\n",
    "    batch_size=BATCH_SIZE,\n",
    "    epochs=20,\n",
    "    validation_data=(val_features, val_labels), \n",
    "    verbose=0)"
   ]
  },
  {
   "cell_type": "code",
   "execution_count": 20,
   "metadata": {},
   "outputs": [],
   "source": [
    "model = make_model()\n",
    "model.load_weights(initial_weights)\n",
    "careful_bias_history = model.fit(\n",
    "    train_features,\n",
    "    train_labels,\n",
    "    batch_size=BATCH_SIZE,\n",
    "    epochs=20,\n",
    "    validation_data=(val_features, val_labels), \n",
    "    verbose=0)"
   ]
  },
  {
   "cell_type": "code",
   "execution_count": 21,
   "metadata": {},
   "outputs": [],
   "source": [
    "mpl.rcParams['figure.figsize'] = (12, 10)\n",
    "colors = plt.rcParams['axes.prop_cycle'].by_key()['color']"
   ]
  },
  {
   "cell_type": "code",
   "execution_count": 22,
   "metadata": {},
   "outputs": [],
   "source": [
    "def plot_loss(history, label, n):\n",
    "  # Use a log scale to show the wide range of values.\n",
    "  plt.semilogy(history.epoch,  history.history['loss'],color=colors[n], label='Train '+label)\n",
    "  plt.semilogy(history.epoch,  history.history['val_loss'],\n",
    "          color=colors[n], label='Val '+label,\n",
    "          linestyle=\"--\")\n",
    "  plt.xlabel('Epoch')\n",
    "  plt.ylabel('Loss')\n",
    "  \n",
    "  plt.legend()"
   ]
  },
  {
   "cell_type": "code",
   "execution_count": 23,
   "metadata": {},
   "outputs": [
    {
     "data": {
      "image/png": "[encoded data removed]",
      "text/plain": [
       "<Figure size 864x720 with 1 Axes>"
      ]
     },
     "metadata": {
      "needs_background": "light"
     },
     "output_type": "display_data"
    }
   ],
   "source": [
    "plot_loss(zero_bias_history, \"Zero Bias\", 0)\n",
    "plot_loss(careful_bias_history, \"Careful Bias\", 1)"
   ]
  },
  {
   "cell_type": "code",
   "execution_count": 25,
   "metadata": {},
   "outputs": [
    {
     "name": "stdout",
     "output_type": "stream",
     "text": [
      "Epoch 1/100\n",
      "90/90 [==============================] - 1s 11ms/step - loss: 0.0140 - tp: 87.0000 - fp: 39.0000 - tn: 227411.0000 - fn: 308.0000 - accuracy: 0.9985 - precision: 0.6905 - recall: 0.2203 - auc: 0.7149 - f1_m: 0.1166 - val_loss: 0.0071 - val_tp: 7.0000 - val_fp: 9.0000 - val_tn: 45487.0000 - val_fn: 66.0000 - val_accuracy: 0.9984 - val_precision: 0.4375 - val_recall: 0.0959 - val_auc: 0.8762 - val_f1_m: 0.1290\n",
      "Epoch 2/100\n",
      "90/90 [==============================] - 0s 6ms/step - loss: 0.0085 - tp: 90.0000 - fp: 22.0000 - tn: 181932.0000 - fn: 232.0000 - accuracy: 0.9986 - precision: 0.8036 - recall: 0.2795 - auc: 0.8152 - f1_m: 0.3250 - val_loss: 0.0048 - val_tp: 30.0000 - val_fp: 12.0000 - val_tn: 45484.0000 - val_fn: 43.0000 - val_accuracy: 0.9988 - val_precision: 0.7143 - val_recall: 0.4110 - val_auc: 0.9312 - val_f1_m: 0.4508\n",
      "Epoch 3/100\n",
      "90/90 [==============================] - 0s 5ms/step - loss: 0.0070 - tp: 133.0000 - fp: 25.0000 - tn: 181929.0000 - fn: 189.0000 - accuracy: 0.9988 - precision: 0.8418 - recall: 0.4130 - auc: 0.8469 - f1_m: 0.4711 - val_loss: 0.0042 - val_tp: 37.0000 - val_fp: 12.0000 - val_tn: 45484.0000 - val_fn: 36.0000 - val_accuracy: 0.9989 - val_precision: 0.7551 - val_recall: 0.5068 - val_auc: 0.9450 - val_f1_m: 0.5123\n",
      "Epoch 4/100\n",
      "90/90 [==============================] - 0s 5ms/step - loss: 0.0065 - tp: 149.0000 - fp: 19.0000 - tn: 181935.0000 - fn: 173.0000 - accuracy: 0.9989 - precision: 0.8869 - recall: 0.4627 - auc: 0.8417 - f1_m: 0.5001 - val_loss: 0.0039 - val_tp: 43.0000 - val_fp: 14.0000 - val_tn: 45482.0000 - val_fn: 30.0000 - val_accuracy: 0.9990 - val_precision: 0.7544 - val_recall: 0.5890 - val_auc: 0.9450 - val_f1_m: 0.6052\n",
      "Epoch 5/100\n",
      "90/90 [==============================] - 0s 5ms/step - loss: 0.0064 - tp: 158.0000 - fp: 31.0000 - tn: 181923.0000 - fn: 164.0000 - accuracy: 0.9989 - precision: 0.8360 - recall: 0.4907 - auc: 0.8672 - f1_m: 0.5453 - val_loss: 0.0036 - val_tp: 42.0000 - val_fp: 14.0000 - val_tn: 45482.0000 - val_fn: 31.0000 - val_accuracy: 0.9990 - val_precision: 0.7500 - val_recall: 0.5753 - val_auc: 0.9449 - val_f1_m: 0.5932\n",
      "Epoch 6/100\n",
      "90/90 [==============================] - 0s 5ms/step - loss: 0.0059 - tp: 156.0000 - fp: 29.0000 - tn: 181925.0000 - fn: 166.0000 - accuracy: 0.9989 - precision: 0.8432 - recall: 0.4845 - auc: 0.8737 - f1_m: 0.5464 - val_loss: 0.0035 - val_tp: 47.0000 - val_fp: 14.0000 - val_tn: 45482.0000 - val_fn: 26.0000 - val_accuracy: 0.9991 - val_precision: 0.7705 - val_recall: 0.6438 - val_auc: 0.9449 - val_f1_m: 0.6460\n",
      "Epoch 7/100\n",
      "90/90 [==============================] - 0s 5ms/step - loss: 0.0063 - tp: 158.0000 - fp: 24.0000 - tn: 181930.0000 - fn: 164.0000 - accuracy: 0.9990 - precision: 0.8681 - recall: 0.4907 - auc: 0.8565 - f1_m: 0.5429 - val_loss: 0.0033 - val_tp: 46.0000 - val_fp: 14.0000 - val_tn: 45482.0000 - val_fn: 27.0000 - val_accuracy: 0.9991 - val_precision: 0.7667 - val_recall: 0.6301 - val_auc: 0.9449 - val_f1_m: 0.6405\n",
      "Epoch 8/100\n",
      "90/90 [==============================] - 0s 5ms/step - loss: 0.0059 - tp: 158.0000 - fp: 23.0000 - tn: 181931.0000 - fn: 164.0000 - accuracy: 0.9990 - precision: 0.8729 - recall: 0.4907 - auc: 0.8662 - f1_m: 0.5501 - val_loss: 0.0031 - val_tp: 49.0000 - val_fp: 14.0000 - val_tn: 45482.0000 - val_fn: 24.0000 - val_accuracy: 0.9992 - val_precision: 0.7778 - val_recall: 0.6712 - val_auc: 0.9449 - val_f1_m: 0.6672\n",
      "Epoch 9/100\n",
      "90/90 [==============================] - 0s 5ms/step - loss: 0.0059 - tp: 157.0000 - fp: 29.0000 - tn: 181925.0000 - fn: 165.0000 - accuracy: 0.9989 - precision: 0.8441 - recall: 0.4876 - auc: 0.8615 - f1_m: 0.5233 - val_loss: 0.0030 - val_tp: 50.0000 - val_fp: 14.0000 - val_tn: 45482.0000 - val_fn: 23.0000 - val_accuracy: 0.9992 - val_precision: 0.7812 - val_recall: 0.6849 - val_auc: 0.9449 - val_f1_m: 0.6735\n",
      "Epoch 10/100\n",
      "90/90 [==============================] - 0s 5ms/step - loss: 0.0057 - tp: 153.0000 - fp: 23.0000 - tn: 181931.0000 - fn: 169.0000 - accuracy: 0.9989 - precision: 0.8693 - recall: 0.4752 - auc: 0.8632 - f1_m: 0.5224 - val_loss: 0.0029 - val_tp: 56.0000 - val_fp: 15.0000 - val_tn: 45481.0000 - val_fn: 17.0000 - val_accuracy: 0.9993 - val_precision: 0.7887 - val_recall: 0.7671 - val_auc: 0.9517 - val_f1_m: 0.7048\n",
      "Epoch 11/100\n",
      "90/90 [==============================] - 0s 5ms/step - loss: 0.0056 - tp: 172.0000 - fp: 24.0000 - tn: 181930.0000 - fn: 150.0000 - accuracy: 0.9990 - precision: 0.8776 - recall: 0.5342 - auc: 0.8678 - f1_m: 0.5745 - val_loss: 0.0030 - val_tp: 60.0000 - val_fp: 15.0000 - val_tn: 45481.0000 - val_fn: 13.0000 - val_accuracy: 0.9994 - val_precision: 0.8000 - val_recall: 0.8219 - val_auc: 0.9518 - val_f1_m: 0.7346\n",
      "Epoch 12/100\n",
      "90/90 [==============================] - 0s 5ms/step - loss: 0.0051 - tp: 181.0000 - fp: 27.0000 - tn: 181927.0000 - fn: 141.0000 - accuracy: 0.9991 - precision: 0.8702 - recall: 0.5621 - auc: 0.8947 - f1_m: 0.6095 - val_loss: 0.0028 - val_tp: 59.0000 - val_fp: 15.0000 - val_tn: 45481.0000 - val_fn: 14.0000 - val_accuracy: 0.9994 - val_precision: 0.7973 - val_recall: 0.8082 - val_auc: 0.9518 - val_f1_m: 0.7216\n",
      "Epoch 13/100\n",
      "90/90 [==============================] - 0s 5ms/step - loss: 0.0049 - tp: 169.0000 - fp: 27.0000 - tn: 181927.0000 - fn: 153.0000 - accuracy: 0.9990 - precision: 0.8622 - recall: 0.5248 - auc: 0.9055 - f1_m: 0.5572 - val_loss: 0.0027 - val_tp: 59.0000 - val_fp: 15.0000 - val_tn: 45481.0000 - val_fn: 14.0000 - val_accuracy: 0.9994 - val_precision: 0.7973 - val_recall: 0.8082 - val_auc: 0.9518 - val_f1_m: 0.7216\n",
      "Epoch 14/100\n",
      "90/90 [==============================] - 0s 5ms/step - loss: 0.0050 - tp: 175.0000 - fp: 27.0000 - tn: 181927.0000 - fn: 147.0000 - accuracy: 0.9990 - precision: 0.8663 - recall: 0.5435 - auc: 0.8931 - f1_m: 0.5863 - val_loss: 0.0026 - val_tp: 59.0000 - val_fp: 15.0000 - val_tn: 45481.0000 - val_fn: 14.0000 - val_accuracy: 0.9994 - val_precision: 0.7973 - val_recall: 0.8082 - val_auc: 0.9518 - val_f1_m: 0.7216\n",
      "Epoch 15/100\n",
      "90/90 [==============================] - 0s 5ms/step - loss: 0.0047 - tp: 177.0000 - fp: 25.0000 - tn: 181929.0000 - fn: 145.0000 - accuracy: 0.9991 - precision: 0.8762 - recall: 0.5497 - auc: 0.8980 - f1_m: 0.5820 - val_loss: 0.0026 - val_tp: 59.0000 - val_fp: 15.0000 - val_tn: 45481.0000 - val_fn: 14.0000 - val_accuracy: 0.9994 - val_precision: 0.7973 - val_recall: 0.8082 - val_auc: 0.9518 - val_f1_m: 0.7216\n",
      "Epoch 16/100\n",
      "90/90 [==============================] - 0s 5ms/step - loss: 0.0045 - tp: 190.0000 - fp: 27.0000 - tn: 181927.0000 - fn: 132.0000 - accuracy: 0.9991 - precision: 0.8756 - recall: 0.5901 - auc: 0.9026 - f1_m: 0.6142 - val_loss: 0.0025 - val_tp: 60.0000 - val_fp: 14.0000 - val_tn: 45482.0000 - val_fn: 13.0000 - val_accuracy: 0.9994 - val_precision: 0.8108 - val_recall: 0.8219 - val_auc: 0.9518 - val_f1_m: 0.7303\n",
      "Epoch 17/100\n",
      "90/90 [==============================] - 0s 5ms/step - loss: 0.0050 - tp: 171.0000 - fp: 28.0000 - tn: 181926.0000 - fn: 151.0000 - accuracy: 0.9990 - precision: 0.8593 - recall: 0.5311 - auc: 0.8869 - f1_m: 0.5961 - val_loss: 0.0025 - val_tp: 61.0000 - val_fp: 14.0000 - val_tn: 45482.0000 - val_fn: 12.0000 - val_accuracy: 0.9994 - val_precision: 0.8133 - val_recall: 0.8356 - val_auc: 0.9518 - val_f1_m: 0.7433\n",
      "Epoch 18/100\n",
      "90/90 [==============================] - 1s 6ms/step - loss: 0.0049 - tp: 170.0000 - fp: 28.0000 - tn: 181926.0000 - fn: 152.0000 - accuracy: 0.9990 - precision: 0.8586 - recall: 0.5280 - auc: 0.8962 - f1_m: 0.5142 - val_loss: 0.0024 - val_tp: 61.0000 - val_fp: 13.0000 - val_tn: 45483.0000 - val_fn: 12.0000 - val_accuracy: 0.9995 - val_precision: 0.8243 - val_recall: 0.8356 - val_auc: 0.9518 - val_f1_m: 0.7457\n",
      "Epoch 19/100\n",
      "90/90 [==============================] - 1s 7ms/step - loss: 0.0046 - tp: 174.0000 - fp: 25.0000 - tn: 181929.0000 - fn: 148.0000 - accuracy: 0.9991 - precision: 0.8744 - recall: 0.5404 - auc: 0.8932 - f1_m: 0.5814 - val_loss: 0.0025 - val_tp: 62.0000 - val_fp: 13.0000 - val_tn: 45483.0000 - val_fn: 11.0000 - val_accuracy: 0.9995 - val_precision: 0.8267 - val_recall: 0.8493 - val_auc: 0.9586 - val_f1_m: 0.7497\n",
      "Epoch 20/100\n"
     ]
    },
    {
     "name": "stdout",
     "output_type": "stream",
     "text": [
      "90/90 [==============================] - 1s 7ms/step - loss: 0.0049 - tp: 164.0000 - fp: 27.0000 - tn: 181927.0000 - fn: 158.0000 - accuracy: 0.9990 - precision: 0.8586 - recall: 0.5093 - auc: 0.8931 - f1_m: 0.5815 - val_loss: 0.0025 - val_tp: 62.0000 - val_fp: 13.0000 - val_tn: 45483.0000 - val_fn: 11.0000 - val_accuracy: 0.9995 - val_precision: 0.8267 - val_recall: 0.8493 - val_auc: 0.9518 - val_f1_m: 0.7497\n",
      "Epoch 21/100\n",
      "90/90 [==============================] - 1s 7ms/step - loss: 0.0043 - tp: 183.0000 - fp: 25.0000 - tn: 181929.0000 - fn: 139.0000 - accuracy: 0.9991 - precision: 0.8798 - recall: 0.5683 - auc: 0.9136 - f1_m: 0.6398 - val_loss: 0.0024 - val_tp: 62.0000 - val_fp: 13.0000 - val_tn: 45483.0000 - val_fn: 11.0000 - val_accuracy: 0.9995 - val_precision: 0.8267 - val_recall: 0.8493 - val_auc: 0.9587 - val_f1_m: 0.7497\n",
      "Epoch 22/100\n",
      "90/90 [==============================] - 1s 7ms/step - loss: 0.0045 - tp: 181.0000 - fp: 25.0000 - tn: 181929.0000 - fn: 141.0000 - accuracy: 0.9991 - precision: 0.8786 - recall: 0.5621 - auc: 0.8932 - f1_m: 0.6269 - val_loss: 0.0024 - val_tp: 62.0000 - val_fp: 12.0000 - val_tn: 45484.0000 - val_fn: 11.0000 - val_accuracy: 0.9995 - val_precision: 0.8378 - val_recall: 0.8493 - val_auc: 0.9587 - val_f1_m: 0.7497\n",
      "Epoch 23/100\n",
      "90/90 [==============================] - 1s 7ms/step - loss: 0.0046 - tp: 181.0000 - fp: 28.0000 - tn: 181926.0000 - fn: 141.0000 - accuracy: 0.9991 - precision: 0.8660 - recall: 0.5621 - auc: 0.8979 - f1_m: 0.5809 - val_loss: 0.0024 - val_tp: 62.0000 - val_fp: 13.0000 - val_tn: 45483.0000 - val_fn: 11.0000 - val_accuracy: 0.9995 - val_precision: 0.8267 - val_recall: 0.8493 - val_auc: 0.9518 - val_f1_m: 0.7497\n",
      "Epoch 24/100\n",
      "90/90 [==============================] - 1s 8ms/step - loss: 0.0044 - tp: 179.0000 - fp: 27.0000 - tn: 181927.0000 - fn: 143.0000 - accuracy: 0.9991 - precision: 0.8689 - recall: 0.5559 - auc: 0.9042 - f1_m: 0.6061 - val_loss: 0.0023 - val_tp: 62.0000 - val_fp: 12.0000 - val_tn: 45484.0000 - val_fn: 11.0000 - val_accuracy: 0.9995 - val_precision: 0.8378 - val_recall: 0.8493 - val_auc: 0.9587 - val_f1_m: 0.7497\n",
      "Epoch 25/100\n",
      "90/90 [==============================] - 1s 8ms/step - loss: 0.0043 - tp: 188.0000 - fp: 26.0000 - tn: 181928.0000 - fn: 134.0000 - accuracy: 0.9991 - precision: 0.8785 - recall: 0.5839 - auc: 0.9089 - f1_m: 0.6052 - val_loss: 0.0023 - val_tp: 62.0000 - val_fp: 12.0000 - val_tn: 45484.0000 - val_fn: 11.0000 - val_accuracy: 0.9995 - val_precision: 0.8378 - val_recall: 0.8493 - val_auc: 0.9587 - val_f1_m: 0.7497\n",
      "Epoch 26/100\n",
      "90/90 [==============================] - 1s 8ms/step - loss: 0.0046 - tp: 171.0000 - fp: 29.0000 - tn: 181925.0000 - fn: 151.0000 - accuracy: 0.9990 - precision: 0.8550 - recall: 0.5311 - auc: 0.8996 - f1_m: 0.5851 - val_loss: 0.0022 - val_tp: 58.0000 - val_fp: 10.0000 - val_tn: 45486.0000 - val_fn: 15.0000 - val_accuracy: 0.9995 - val_precision: 0.8529 - val_recall: 0.7945 - val_auc: 0.9587 - val_f1_m: 0.7183\n",
      "Epoch 27/100\n",
      "90/90 [==============================] - 1s 7ms/step - loss: 0.0047 - tp: 169.0000 - fp: 23.0000 - tn: 181931.0000 - fn: 153.0000 - accuracy: 0.9990 - precision: 0.8802 - recall: 0.5248 - auc: 0.8979 - f1_m: 0.5816 - val_loss: 0.0022 - val_tp: 58.0000 - val_fp: 11.0000 - val_tn: 45485.0000 - val_fn: 15.0000 - val_accuracy: 0.9994 - val_precision: 0.8406 - val_recall: 0.7945 - val_auc: 0.9587 - val_f1_m: 0.7038\n",
      "Epoch 28/100\n",
      "90/90 [==============================] - 1s 7ms/step - loss: 0.0043 - tp: 185.0000 - fp: 28.0000 - tn: 181926.0000 - fn: 137.0000 - accuracy: 0.9991 - precision: 0.8685 - recall: 0.5745 - auc: 0.9089 - f1_m: 0.6173 - val_loss: 0.0023 - val_tp: 60.0000 - val_fp: 12.0000 - val_tn: 45484.0000 - val_fn: 13.0000 - val_accuracy: 0.9995 - val_precision: 0.8333 - val_recall: 0.8219 - val_auc: 0.9587 - val_f1_m: 0.7304\n",
      "Epoch 29/100\n",
      "90/90 [==============================] - 1s 7ms/step - loss: 0.0043 - tp: 185.0000 - fp: 21.0000 - tn: 181933.0000 - fn: 137.0000 - accuracy: 0.9991 - precision: 0.8981 - recall: 0.5745 - auc: 0.9074 - f1_m: 0.6524 - val_loss: 0.0023 - val_tp: 62.0000 - val_fp: 12.0000 - val_tn: 45484.0000 - val_fn: 11.0000 - val_accuracy: 0.9995 - val_precision: 0.8378 - val_recall: 0.8493 - val_auc: 0.9587 - val_f1_m: 0.7497\n",
      "Epoch 30/100\n",
      "90/90 [==============================] - 1s 7ms/step - loss: 0.0045 - tp: 178.0000 - fp: 25.0000 - tn: 181929.0000 - fn: 144.0000 - accuracy: 0.9991 - precision: 0.8768 - recall: 0.5528 - auc: 0.8981 - f1_m: 0.5823 - val_loss: 0.0023 - val_tp: 62.0000 - val_fp: 12.0000 - val_tn: 45484.0000 - val_fn: 11.0000 - val_accuracy: 0.9995 - val_precision: 0.8378 - val_recall: 0.8493 - val_auc: 0.9587 - val_f1_m: 0.7497\n",
      "Epoch 31/100\n",
      "90/90 [==============================] - 1s 7ms/step - loss: 0.0041 - tp: 187.0000 - fp: 29.0000 - tn: 181925.0000 - fn: 135.0000 - accuracy: 0.9991 - precision: 0.8657 - recall: 0.5807 - auc: 0.9106 - f1_m: 0.6029 - val_loss: 0.0022 - val_tp: 58.0000 - val_fp: 10.0000 - val_tn: 45486.0000 - val_fn: 15.0000 - val_accuracy: 0.9995 - val_precision: 0.8529 - val_recall: 0.7945 - val_auc: 0.9587 - val_f1_m: 0.7183\n",
      "Epoch 32/100\n",
      "90/90 [==============================] - 1s 7ms/step - loss: 0.0043 - tp: 172.0000 - fp: 23.0000 - tn: 181931.0000 - fn: 150.0000 - accuracy: 0.9991 - precision: 0.8821 - recall: 0.5342 - auc: 0.9106 - f1_m: 0.5780 - val_loss: 0.0023 - val_tp: 62.0000 - val_fp: 12.0000 - val_tn: 45484.0000 - val_fn: 11.0000 - val_accuracy: 0.9995 - val_precision: 0.8378 - val_recall: 0.8493 - val_auc: 0.9587 - val_f1_m: 0.7497\n",
      "Epoch 33/100\n",
      "90/90 [==============================] - 1s 7ms/step - loss: 0.0041 - tp: 189.0000 - fp: 28.0000 - tn: 181926.0000 - fn: 133.0000 - accuracy: 0.9991 - precision: 0.8710 - recall: 0.5870 - auc: 0.9199 - f1_m: 0.6168 - val_loss: 0.0023 - val_tp: 62.0000 - val_fp: 12.0000 - val_tn: 45484.0000 - val_fn: 11.0000 - val_accuracy: 0.9995 - val_precision: 0.8378 - val_recall: 0.8493 - val_auc: 0.9587 - val_f1_m: 0.7497\n",
      "Epoch 34/100\n",
      "90/90 [==============================] - 1s 7ms/step - loss: 0.0044 - tp: 179.0000 - fp: 30.0000 - tn: 181924.0000 - fn: 143.0000 - accuracy: 0.9991 - precision: 0.8565 - recall: 0.5559 - auc: 0.8966 - f1_m: 0.5907 - val_loss: 0.0022 - val_tp: 58.0000 - val_fp: 10.0000 - val_tn: 45486.0000 - val_fn: 15.0000 - val_accuracy: 0.9995 - val_precision: 0.8529 - val_recall: 0.7945 - val_auc: 0.9587 - val_f1_m: 0.7183\n",
      "Epoch 35/100\n",
      "90/90 [==============================] - 1s 6ms/step - loss: 0.0043 - tp: 176.0000 - fp: 27.0000 - tn: 181927.0000 - fn: 146.0000 - accuracy: 0.9991 - precision: 0.8670 - recall: 0.5466 - auc: 0.9106 - f1_m: 0.5972 - val_loss: 0.0022 - val_tp: 61.0000 - val_fp: 12.0000 - val_tn: 45484.0000 - val_fn: 12.0000 - val_accuracy: 0.9995 - val_precision: 0.8356 - val_recall: 0.8356 - val_auc: 0.9587 - val_f1_m: 0.7366\n",
      "Epoch 36/100\n",
      "90/90 [==============================] - 1s 7ms/step - loss: 0.0042 - tp: 190.0000 - fp: 27.0000 - tn: 181927.0000 - fn: 132.0000 - accuracy: 0.9991 - precision: 0.8756 - recall: 0.5901 - auc: 0.9029 - f1_m: 0.6632 - val_loss: 0.0022 - val_tp: 58.0000 - val_fp: 10.0000 - val_tn: 45486.0000 - val_fn: 15.0000 - val_accuracy: 0.9995 - val_precision: 0.8529 - val_recall: 0.7945 - val_auc: 0.9587 - val_f1_m: 0.7183\n",
      "Epoch 37/100\n",
      "90/90 [==============================] - 1s 7ms/step - loss: 0.0041 - tp: 182.0000 - fp: 30.0000 - tn: 181924.0000 - fn: 140.0000 - accuracy: 0.9991 - precision: 0.8585 - recall: 0.5652 - auc: 0.9200 - f1_m: 0.5968 - val_loss: 0.0021 - val_tp: 58.0000 - val_fp: 9.0000 - val_tn: 45487.0000 - val_fn: 15.0000 - val_accuracy: 0.9995 - val_precision: 0.8657 - val_recall: 0.7945 - val_auc: 0.9587 - val_f1_m: 0.7183\n",
      "Epoch 38/100\n",
      "90/90 [==============================] - 1s 8ms/step - loss: 0.0041 - tp: 178.0000 - fp: 29.0000 - tn: 181925.0000 - fn: 144.0000 - accuracy: 0.9991 - precision: 0.8599 - recall: 0.5528 - auc: 0.9075 - f1_m: 0.5959 - val_loss: 0.0022 - val_tp: 58.0000 - val_fp: 10.0000 - val_tn: 45486.0000 - val_fn: 15.0000 - val_accuracy: 0.9995 - val_precision: 0.8529 - val_recall: 0.7945 - val_auc: 0.9587 - val_f1_m: 0.7183\n",
      "Epoch 39/100\n"
     ]
    },
    {
     "name": "stdout",
     "output_type": "stream",
     "text": [
      "90/90 [==============================] - 1s 8ms/step - loss: 0.0042 - tp: 192.0000 - fp: 26.0000 - tn: 181928.0000 - fn: 130.0000 - accuracy: 0.9991 - precision: 0.8807 - recall: 0.5963 - auc: 0.9137 - f1_m: 0.6160 - val_loss: 0.0022 - val_tp: 58.0000 - val_fp: 10.0000 - val_tn: 45486.0000 - val_fn: 15.0000 - val_accuracy: 0.9995 - val_precision: 0.8529 - val_recall: 0.7945 - val_auc: 0.9587 - val_f1_m: 0.7183\n",
      "Epoch 40/100\n",
      "90/90 [==============================] - 1s 8ms/step - loss: 0.0043 - tp: 178.0000 - fp: 23.0000 - tn: 181931.0000 - fn: 144.0000 - accuracy: 0.9991 - precision: 0.8856 - recall: 0.5528 - auc: 0.9044 - f1_m: 0.5958 - val_loss: 0.0022 - val_tp: 58.0000 - val_fp: 10.0000 - val_tn: 45486.0000 - val_fn: 15.0000 - val_accuracy: 0.9995 - val_precision: 0.8529 - val_recall: 0.7945 - val_auc: 0.9655 - val_f1_m: 0.7183\n",
      "Epoch 41/100\n",
      "90/90 [==============================] - 1s 6ms/step - loss: 0.0040 - tp: 194.0000 - fp: 26.0000 - tn: 181928.0000 - fn: 128.0000 - accuracy: 0.9992 - precision: 0.8818 - recall: 0.6025 - auc: 0.9137 - f1_m: 0.6460 - val_loss: 0.0022 - val_tp: 58.0000 - val_fp: 9.0000 - val_tn: 45487.0000 - val_fn: 15.0000 - val_accuracy: 0.9995 - val_precision: 0.8657 - val_recall: 0.7945 - val_auc: 0.9587 - val_f1_m: 0.7183\n",
      "Epoch 42/100\n",
      "90/90 [==============================] - 1s 6ms/step - loss: 0.0038 - tp: 192.0000 - fp: 19.0000 - tn: 181935.0000 - fn: 130.0000 - accuracy: 0.9992 - precision: 0.9100 - recall: 0.5963 - auc: 0.9138 - f1_m: 0.6679 - val_loss: 0.0022 - val_tp: 60.0000 - val_fp: 10.0000 - val_tn: 45486.0000 - val_fn: 13.0000 - val_accuracy: 0.9995 - val_precision: 0.8571 - val_recall: 0.8219 - val_auc: 0.9655 - val_f1_m: 0.7521\n",
      "Epoch 43/100\n",
      "90/90 [==============================] - 1s 7ms/step - loss: 0.0040 - tp: 190.0000 - fp: 24.0000 - tn: 181930.0000 - fn: 132.0000 - accuracy: 0.9991 - precision: 0.8879 - recall: 0.5901 - auc: 0.9059 - f1_m: 0.6646 - val_loss: 0.0022 - val_tp: 61.0000 - val_fp: 12.0000 - val_tn: 45484.0000 - val_fn: 12.0000 - val_accuracy: 0.9995 - val_precision: 0.8356 - val_recall: 0.8356 - val_auc: 0.9655 - val_f1_m: 0.7366\n",
      "Epoch 44/100\n",
      "90/90 [==============================] - 1s 7ms/step - loss: 0.0041 - tp: 184.0000 - fp: 24.0000 - tn: 181930.0000 - fn: 138.0000 - accuracy: 0.9991 - precision: 0.8846 - recall: 0.5714 - auc: 0.9091 - f1_m: 0.6134 - val_loss: 0.0022 - val_tp: 59.0000 - val_fp: 10.0000 - val_tn: 45486.0000 - val_fn: 14.0000 - val_accuracy: 0.9995 - val_precision: 0.8551 - val_recall: 0.8082 - val_auc: 0.9587 - val_f1_m: 0.7473\n",
      "Epoch 45/100\n",
      "90/90 [==============================] - 1s 7ms/step - loss: 0.0039 - tp: 186.0000 - fp: 25.0000 - tn: 181929.0000 - fn: 136.0000 - accuracy: 0.9991 - precision: 0.8815 - recall: 0.5776 - auc: 0.9137 - f1_m: 0.6113 - val_loss: 0.0022 - val_tp: 60.0000 - val_fp: 12.0000 - val_tn: 45484.0000 - val_fn: 13.0000 - val_accuracy: 0.9995 - val_precision: 0.8333 - val_recall: 0.8219 - val_auc: 0.9655 - val_f1_m: 0.7304\n",
      "Epoch 46/100\n",
      "90/90 [==============================] - 1s 7ms/step - loss: 0.0042 - tp: 189.0000 - fp: 26.0000 - tn: 181928.0000 - fn: 133.0000 - accuracy: 0.9991 - precision: 0.8791 - recall: 0.5870 - auc: 0.9106 - f1_m: 0.6450 - val_loss: 0.0022 - val_tp: 58.0000 - val_fp: 9.0000 - val_tn: 45487.0000 - val_fn: 15.0000 - val_accuracy: 0.9995 - val_precision: 0.8657 - val_recall: 0.7945 - val_auc: 0.9655 - val_f1_m: 0.7183\n",
      "Epoch 47/100\n",
      "90/90 [==============================] - 1s 7ms/step - loss: 0.0040 - tp: 189.0000 - fp: 24.0000 - tn: 181930.0000 - fn: 133.0000 - accuracy: 0.9991 - precision: 0.8873 - recall: 0.5870 - auc: 0.9107 - f1_m: 0.6257 - val_loss: 0.0022 - val_tp: 58.0000 - val_fp: 10.0000 - val_tn: 45486.0000 - val_fn: 15.0000 - val_accuracy: 0.9995 - val_precision: 0.8529 - val_recall: 0.7945 - val_auc: 0.9724 - val_f1_m: 0.7183\n",
      "Epoch 48/100\n",
      "90/90 [==============================] - 1s 6ms/step - loss: 0.0044 - tp: 179.0000 - fp: 32.0000 - tn: 181922.0000 - fn: 143.0000 - accuracy: 0.9990 - precision: 0.8483 - recall: 0.5559 - auc: 0.9169 - f1_m: 0.5913 - val_loss: 0.0021 - val_tp: 58.0000 - val_fp: 8.0000 - val_tn: 45488.0000 - val_fn: 15.0000 - val_accuracy: 0.9995 - val_precision: 0.8788 - val_recall: 0.7945 - val_auc: 0.9655 - val_f1_m: 0.7222\n",
      "Epoch 49/100\n",
      "90/90 [==============================] - 1s 7ms/step - loss: 0.0041 - tp: 180.0000 - fp: 26.0000 - tn: 181928.0000 - fn: 142.0000 - accuracy: 0.9991 - precision: 0.8738 - recall: 0.5590 - auc: 0.9060 - f1_m: 0.5997 - val_loss: 0.0022 - val_tp: 58.0000 - val_fp: 9.0000 - val_tn: 45487.0000 - val_fn: 15.0000 - val_accuracy: 0.9995 - val_precision: 0.8657 - val_recall: 0.7945 - val_auc: 0.9656 - val_f1_m: 0.7183\n",
      "Epoch 50/100\n",
      "90/90 [==============================] - 1s 7ms/step - loss: 0.0041 - tp: 185.0000 - fp: 21.0000 - tn: 181933.0000 - fn: 137.0000 - accuracy: 0.9991 - precision: 0.8981 - recall: 0.5745 - auc: 0.9029 - f1_m: 0.6108 - val_loss: 0.0022 - val_tp: 58.0000 - val_fp: 10.0000 - val_tn: 45486.0000 - val_fn: 15.0000 - val_accuracy: 0.9995 - val_precision: 0.8529 - val_recall: 0.7945 - val_auc: 0.9656 - val_f1_m: 0.7183\n",
      "Epoch 51/100\n",
      "90/90 [==============================] - 1s 6ms/step - loss: 0.0042 - tp: 185.0000 - fp: 25.0000 - tn: 181929.0000 - fn: 137.0000 - accuracy: 0.9991 - precision: 0.8810 - recall: 0.5745 - auc: 0.9122 - f1_m: 0.6365 - val_loss: 0.0022 - val_tp: 58.0000 - val_fp: 9.0000 - val_tn: 45487.0000 - val_fn: 15.0000 - val_accuracy: 0.9995 - val_precision: 0.8657 - val_recall: 0.7945 - val_auc: 0.9656 - val_f1_m: 0.7183\n",
      "Epoch 52/100\n",
      "90/90 [==============================] - 1s 6ms/step - loss: 0.0041 - tp: 179.0000 - fp: 21.0000 - tn: 181933.0000 - fn: 143.0000 - accuracy: 0.9991 - precision: 0.8950 - recall: 0.5559 - auc: 0.8966 - f1_m: 0.6216 - val_loss: 0.0021 - val_tp: 58.0000 - val_fp: 9.0000 - val_tn: 45487.0000 - val_fn: 15.0000 - val_accuracy: 0.9995 - val_precision: 0.8657 - val_recall: 0.7945 - val_auc: 0.9656 - val_f1_m: 0.7183\n",
      "Epoch 53/100\n",
      "90/90 [==============================] - 1s 7ms/step - loss: 0.0039 - tp: 197.0000 - fp: 20.0000 - tn: 181934.0000 - fn: 125.0000 - accuracy: 0.9992 - precision: 0.9078 - recall: 0.6118 - auc: 0.9108 - f1_m: 0.6806 - val_loss: 0.0021 - val_tp: 58.0000 - val_fp: 9.0000 - val_tn: 45487.0000 - val_fn: 15.0000 - val_accuracy: 0.9995 - val_precision: 0.8657 - val_recall: 0.7945 - val_auc: 0.9724 - val_f1_m: 0.7183\n",
      "Epoch 54/100\n",
      "90/90 [==============================] - 1s 7ms/step - loss: 0.0040 - tp: 183.0000 - fp: 22.0000 - tn: 181932.0000 - fn: 139.0000 - accuracy: 0.9991 - precision: 0.8927 - recall: 0.5683 - auc: 0.9060 - f1_m: 0.6053 - val_loss: 0.0022 - val_tp: 58.0000 - val_fp: 9.0000 - val_tn: 45487.0000 - val_fn: 15.0000 - val_accuracy: 0.9995 - val_precision: 0.8657 - val_recall: 0.7945 - val_auc: 0.9724 - val_f1_m: 0.7183\n",
      "Epoch 55/100\n",
      "90/90 [==============================] - 1s 7ms/step - loss: 0.0039 - tp: 197.0000 - fp: 27.0000 - tn: 181927.0000 - fn: 125.0000 - accuracy: 0.9992 - precision: 0.8795 - recall: 0.6118 - auc: 0.9169 - f1_m: 0.6685 - val_loss: 0.0021 - val_tp: 58.0000 - val_fp: 9.0000 - val_tn: 45487.0000 - val_fn: 15.0000 - val_accuracy: 0.9995 - val_precision: 0.8657 - val_recall: 0.7945 - val_auc: 0.9724 - val_f1_m: 0.7183\n",
      "Epoch 56/100\n",
      "90/90 [==============================] - 1s 7ms/step - loss: 0.0040 - tp: 177.0000 - fp: 24.0000 - tn: 181930.0000 - fn: 145.0000 - accuracy: 0.9991 - precision: 0.8806 - recall: 0.5497 - auc: 0.9076 - f1_m: 0.6078 - val_loss: 0.0021 - val_tp: 58.0000 - val_fp: 9.0000 - val_tn: 45487.0000 - val_fn: 15.0000 - val_accuracy: 0.9995 - val_precision: 0.8657 - val_recall: 0.7945 - val_auc: 0.9724 - val_f1_m: 0.7183\n",
      "Epoch 57/100\n",
      "88/90 [============================>.] - ETA: 0s - loss: 0.0040 - tp: 186.0000 - fp: 25.0000 - tn: 179878.0000 - fn: 135.0000 - accuracy: 0.9991 - precision: 0.8815 - recall: 0.5794 - auc: 0.9151 - f1_m: 0.6221Restoring model weights from the end of the best epoch.\n",
      "90/90 [==============================] - 1s 7ms/step - loss: 0.0040 - tp: 187.0000 - fp: 25.0000 - tn: 181929.0000 - fn: 135.0000 - accuracy: 0.9991 - precision: 0.8821 - recall: 0.5807 - auc: 0.9154 - f1_m: 0.6193 - val_loss: 0.0021 - val_tp: 58.0000 - val_fp: 9.0000 - val_tn: 45487.0000 - val_fn: 15.0000 - val_accuracy: 0.9995 - val_precision: 0.8657 - val_recall: 0.7945 - val_auc: 0.9724 - val_f1_m: 0.7183\n"
     ]
    },
    {
     "name": "stdout",
     "output_type": "stream",
     "text": [
      "Epoch 00057: early stopping\n"
     ]
    }
   ],
   "source": [
    "model = make_model()\n",
    "model.load_weights(initial_weights)\n",
    "baseline_history = model.fit(\n",
    "    train_features,\n",
    "    train_labels,\n",
    "    batch_size=BATCH_SIZE,\n",
    "    epochs=EPOCHS,\n",
    "    callbacks=[early_stopping],\n",
    "    validation_data=(val_features, val_labels))"
   ]
  },
  {
   "cell_type": "code",
   "execution_count": 26,
   "metadata": {},
   "outputs": [
    {
     "name": "stderr",
     "output_type": "stream",
     "text": [
      "No handles with labels found to put in legend.\n"
     ]
    },
    {
     "data": {
      "image/png": "[encoded data removed]",
      "text/plain": [
       "<Figure size 864x720 with 4 Axes>"
      ]
     },
     "metadata": {
      "needs_background": "light"
     },
     "output_type": "display_data"
    }
   ],
   "source": [
    "def plot_metrics(history):\n",
    "    metrics =  ['loss', 'auc', 'precision', 'f1_m']\n",
    "    for n, metric in enumerate(metrics):\n",
    "        name = metric.replace(\"_\",\" \").capitalize()\n",
    "        plt.subplot(2,2,n+1)\n",
    "        plt.plot(history.epoch,  history.history[metric], color=colors[0], label='Train')\n",
    "        plt.plot(history.epoch, history.history['val_'+metric],\n",
    "             color=colors[0], linestyle=\"--\", label='Val')\n",
    "        plt.xlabel('Epoch')\n",
    "        plt.ylabel(name)\n",
    "        if metric == 'loss':\n",
    "            plt.ylim([0, plt.ylim()[1]])\n",
    "        elif metric == 'auc':\n",
    "            plt.ylim([0.8,2])\n",
    "        else:\n",
    "            plt.ylim([0,1])\n",
    "\n",
    "plt.legend()\n",
    "plot_metrics(baseline_history)\n"
   ]
  },
  {
   "cell_type": "code",
   "execution_count": 27,
   "metadata": {},
   "outputs": [],
   "source": [
    "train_predictions_baseline = model.predict(train_features, batch_size=BATCH_SIZE)\n",
    "test_predictions_baseline = model.predict(test_features, batch_size=BATCH_SIZE)"
   ]
  },
  {
   "cell_type": "code",
   "execution_count": 28,
   "metadata": {},
   "outputs": [],
   "source": [
    "def plot_cm(labels, predictions, p=0.5):\n",
    "    cm = confusion_matrix(labels, predictions > p)\n",
    "    plt.figure(figsize=(5,5))\n",
    "    sns.heatmap(cm, annot=True, fmt=\"d\")\n",
    "    plt.title('Confusion matrix @{:.2f}'.format(p))\n",
    "    plt.ylabel('Actual label')\n",
    "    plt.xlabel('Predicted label')"
   ]
  },
  {
   "cell_type": "code",
   "execution_count": 29,
   "metadata": {},
   "outputs": [
    {
     "data": {
      "image/png": "[encoded data removed]",
      "text/plain": [
       "<Figure size 360x360 with 2 Axes>"
      ]
     },
     "metadata": {
      "needs_background": "light"
     },
     "output_type": "display_data"
    }
   ],
   "source": [
    "plot_cm(test_labels, test_predictions_baseline)"
   ]
  },
  {
   "cell_type": "code",
   "execution_count": 30,
   "metadata": {},
   "outputs": [],
   "source": [
    "def plot_roc(name, labels, predictions, **kwargs):\n",
    "    fp, tp, _ = sklearn.metrics.roc_curve(labels, predictions)\n",
    "\n",
    "    plt.plot(100*fp, 100*tp, label=name, linewidth=2, **kwargs)\n",
    "    plt.xlabel('False positives [%]')\n",
    "    plt.ylabel('True positives [%]')\n",
    "    plt.xlim([-0.5,20])\n",
    "    plt.ylim([80,100.5])\n",
    "    plt.grid(True)\n",
    "    ax = plt.gca()\n",
    "    ax.set_aspect('equal')"
   ]
  },
  {
   "cell_type": "code",
   "execution_count": 31,
   "metadata": {},
   "outputs": [
    {
     "data": {
      "text/plain": [
       "<matplotlib.legend.Legend at 0x2da47aecb08>"
      ]
     },
     "execution_count": 31,
     "metadata": {},
     "output_type": "execute_result"
    },
    {
     "data": {
      "image/png": "[encoded data removed]",
      "text/plain": [
       "<Figure size 864x720 with 1 Axes>"
      ]
     },
     "metadata": {
      "needs_background": "light"
     },
     "output_type": "display_data"
    }
   ],
   "source": [
    "plot_roc(\"Train Baseline\", train_labels, train_predictions_baseline, color=colors[0])\n",
    "plot_roc(\"Test Baseline\", test_labels, test_predictions_baseline, color=colors[0], linestyle='--')\n",
    "plt.legend(loc='lower right')"
   ]
  },
  {
   "cell_type": "code",
   "execution_count": 32,
   "metadata": {},
   "outputs": [
    {
     "name": "stdout",
     "output_type": "stream",
     "text": [
      "Weight for class 0: 0.50\n",
      "Weight for class 1: 289.44\n"
     ]
    }
   ],
   "source": [
    "weight_for_0 = (1 / neg)*(total)/2.0 \n",
    "weight_for_1 = (1 / pos)*(total)/2.0\n",
    "\n",
    "class_weight = {0: weight_for_0, 1: weight_for_1}\n",
    "\n",
    "print('Weight for class 0: {:.2f}'.format(weight_for_0))\n",
    "print('Weight for class 1: {:.2f}'.format(weight_for_1))"
   ]
  },
  {
   "cell_type": "code",
   "execution_count": 33,
   "metadata": {},
   "outputs": [
    {
     "name": "stdout",
     "output_type": "stream",
     "text": [
      "Epoch 1/100\n",
      "90/90 [==============================] - 1s 15ms/step - loss: 3.5103 - tp: 86.0000 - fp: 61.0000 - tn: 227389.0000 - fn: 309.0000 - accuracy: 0.9984 - precision: 0.5850 - recall: 0.2177 - auc: 0.7123 - f1_m: 0.0983 - val_loss: 0.0063 - val_tp: 17.0000 - val_fp: 10.0000 - val_tn: 45486.0000 - val_fn: 56.0000 - val_accuracy: 0.9986 - val_precision: 0.6296 - val_recall: 0.2329 - val_auc: 0.9224 - val_f1_m: 0.2768\n",
      "Epoch 2/100\n",
      "90/90 [==============================] - 1s 7ms/step - loss: 1.5065 - tp: 128.0000 - fp: 179.0000 - tn: 181775.0000 - fn: 194.0000 - accuracy: 0.9980 - precision: 0.4169 - recall: 0.3975 - auc: 0.8411 - f1_m: 0.3751 - val_loss: 0.0056 - val_tp: 47.0000 - val_fp: 13.0000 - val_tn: 45483.0000 - val_fn: 26.0000 - val_accuracy: 0.9991 - val_precision: 0.7833 - val_recall: 0.6438 - val_auc: 0.9491 - val_f1_m: 0.6362\n",
      "Epoch 3/100\n",
      "90/90 [==============================] - 1s 8ms/step - loss: 1.1773 - tp: 171.0000 - fp: 365.0000 - tn: 181589.0000 - fn: 151.0000 - accuracy: 0.9972 - precision: 0.3190 - recall: 0.5311 - auc: 0.8632 - f1_m: 0.3716 - val_loss: 0.0068 - val_tp: 61.0000 - val_fp: 19.0000 - val_tn: 45477.0000 - val_fn: 12.0000 - val_accuracy: 0.9993 - val_precision: 0.7625 - val_recall: 0.8356 - val_auc: 0.9730 - val_f1_m: 0.7205\n",
      "Epoch 4/100\n",
      "90/90 [==============================] - 1s 7ms/step - loss: 0.9917 - tp: 196.0000 - fp: 790.0000 - tn: 181164.0000 - fn: 126.0000 - accuracy: 0.9950 - precision: 0.1988 - recall: 0.6087 - auc: 0.8603 - f1_m: 0.2896 - val_loss: 0.0090 - val_tp: 65.0000 - val_fp: 25.0000 - val_tn: 45471.0000 - val_fn: 8.0000 - val_accuracy: 0.9993 - val_precision: 0.7222 - val_recall: 0.8904 - val_auc: 0.9731 - val_f1_m: 0.7649\n",
      "Epoch 5/100\n",
      "90/90 [==============================] - 1s 7ms/step - loss: 0.7958 - tp: 221.0000 - fp: 1375.0000 - tn: 180579.0000 - fn: 101.0000 - accuracy: 0.9919 - precision: 0.1385 - recall: 0.6863 - auc: 0.8835 - f1_m: 0.2230 - val_loss: 0.0119 - val_tp: 65.0000 - val_fp: 43.0000 - val_tn: 45453.0000 - val_fn: 8.0000 - val_accuracy: 0.9989 - val_precision: 0.6019 - val_recall: 0.8904 - val_auc: 0.9724 - val_f1_m: 0.6870\n",
      "Epoch 6/100\n",
      "90/90 [==============================] - 1s 8ms/step - loss: 0.6604 - tp: 235.0000 - fp: 1937.0000 - tn: 180017.0000 - fn: 87.0000 - accuracy: 0.9889 - precision: 0.1082 - recall: 0.7298 - auc: 0.9043 - f1_m: 0.1830 - val_loss: 0.0157 - val_tp: 66.0000 - val_fp: 77.0000 - val_tn: 45419.0000 - val_fn: 7.0000 - val_accuracy: 0.9982 - val_precision: 0.4615 - val_recall: 0.9041 - val_auc: 0.9774 - val_f1_m: 0.6015\n",
      "Epoch 7/100\n",
      "90/90 [==============================] - 1s 8ms/step - loss: 0.7302 - tp: 230.0000 - fp: 2558.0000 - tn: 179396.0000 - fn: 92.0000 - accuracy: 0.9855 - precision: 0.0825 - recall: 0.7143 - auc: 0.8848 - f1_m: 0.1436 - val_loss: 0.0213 - val_tp: 66.0000 - val_fp: 178.0000 - val_tn: 45318.0000 - val_fn: 7.0000 - val_accuracy: 0.9959 - val_precision: 0.2705 - val_recall: 0.9041 - val_auc: 0.9776 - val_f1_m: 0.4288\n",
      "Epoch 8/100\n",
      "90/90 [==============================] - 1s 8ms/step - loss: 0.6172 - tp: 234.0000 - fp: 3335.0000 - tn: 178619.0000 - fn: 88.0000 - accuracy: 0.9812 - precision: 0.0656 - recall: 0.7267 - auc: 0.9060 - f1_m: 0.1164 - val_loss: 0.0282 - val_tp: 66.0000 - val_fp: 294.0000 - val_tn: 45202.0000 - val_fn: 7.0000 - val_accuracy: 0.9934 - val_precision: 0.1833 - val_recall: 0.9041 - val_auc: 0.9825 - val_f1_m: 0.3000\n",
      "Epoch 9/100\n",
      "90/90 [==============================] - 1s 8ms/step - loss: 0.6704 - tp: 240.0000 - fp: 4056.0000 - tn: 177898.0000 - fn: 82.0000 - accuracy: 0.9773 - precision: 0.0559 - recall: 0.7453 - auc: 0.8810 - f1_m: 0.1011 - val_loss: 0.0332 - val_tp: 67.0000 - val_fp: 379.0000 - val_tn: 45117.0000 - val_fn: 6.0000 - val_accuracy: 0.9916 - val_precision: 0.1502 - val_recall: 0.9178 - val_auc: 0.9820 - val_f1_m: 0.2570\n",
      "Epoch 10/100\n",
      "90/90 [==============================] - 1s 8ms/step - loss: 0.5151 - tp: 254.0000 - fp: 4546.0000 - tn: 177408.0000 - fn: 68.0000 - accuracy: 0.9747 - precision: 0.0529 - recall: 0.7888 - auc: 0.9150 - f1_m: 0.0975 - val_loss: 0.0389 - val_tp: 67.0000 - val_fp: 450.0000 - val_tn: 45046.0000 - val_fn: 6.0000 - val_accuracy: 0.9900 - val_precision: 0.1296 - val_recall: 0.9178 - val_auc: 0.9863 - val_f1_m: 0.2287\n",
      "Epoch 11/100\n",
      "90/90 [==============================] - 1s 6ms/step - loss: 0.5308 - tp: 255.0000 - fp: 4952.0000 - tn: 177002.0000 - fn: 67.0000 - accuracy: 0.9725 - precision: 0.0490 - recall: 0.7919 - auc: 0.9093 - f1_m: 0.0888 - val_loss: 0.0428 - val_tp: 67.0000 - val_fp: 500.0000 - val_tn: 44996.0000 - val_fn: 6.0000 - val_accuracy: 0.9889 - val_precision: 0.1182 - val_recall: 0.9178 - val_auc: 0.9857 - val_f1_m: 0.2109\n",
      "Epoch 12/100\n",
      "90/90 [==============================] - 1s 6ms/step - loss: 0.4468 - tp: 267.0000 - fp: 5284.0000 - tn: 176670.0000 - fn: 55.0000 - accuracy: 0.9707 - precision: 0.0481 - recall: 0.8292 - auc: 0.9239 - f1_m: 0.0883 - val_loss: 0.0453 - val_tp: 67.0000 - val_fp: 533.0000 - val_tn: 44963.0000 - val_fn: 6.0000 - val_accuracy: 0.9882 - val_precision: 0.1117 - val_recall: 0.9178 - val_auc: 0.9874 - val_f1_m: 0.2048\n",
      "Epoch 13/100\n",
      "90/90 [==============================] - 1s 7ms/step - loss: 0.4258 - tp: 269.0000 - fp: 5418.0000 - tn: 176536.0000 - fn: 53.0000 - accuracy: 0.9700 - precision: 0.0473 - recall: 0.8354 - auc: 0.9253 - f1_m: 0.0876 - val_loss: 0.0483 - val_tp: 68.0000 - val_fp: 569.0000 - val_tn: 44927.0000 - val_fn: 5.0000 - val_accuracy: 0.9874 - val_precision: 0.1068 - val_recall: 0.9315 - val_auc: 0.9869 - val_f1_m: 0.1890\n",
      "Epoch 14/100\n",
      "90/90 [==============================] - 1s 7ms/step - loss: 0.5246 - tp: 256.0000 - fp: 5680.0000 - tn: 176274.0000 - fn: 66.0000 - accuracy: 0.9685 - precision: 0.0431 - recall: 0.7950 - auc: 0.9037 - f1_m: 0.0792 - val_loss: 0.0495 - val_tp: 68.0000 - val_fp: 582.0000 - val_tn: 44914.0000 - val_fn: 5.0000 - val_accuracy: 0.9871 - val_precision: 0.1046 - val_recall: 0.9315 - val_auc: 0.9877 - val_f1_m: 0.1859\n",
      "Epoch 15/100\n",
      "90/90 [==============================] - 1s 7ms/step - loss: 0.4405 - tp: 266.0000 - fp: 5819.0000 - tn: 176135.0000 - fn: 56.0000 - accuracy: 0.9678 - precision: 0.0437 - recall: 0.8261 - auc: 0.9228 - f1_m: 0.0814 - val_loss: 0.0532 - val_tp: 68.0000 - val_fp: 616.0000 - val_tn: 44880.0000 - val_fn: 5.0000 - val_accuracy: 0.9864 - val_precision: 0.0994 - val_recall: 0.9315 - val_auc: 0.9873 - val_f1_m: 0.1790\n",
      "Epoch 16/100\n",
      "90/90 [==============================] - 1s 7ms/step - loss: 0.4599 - tp: 259.0000 - fp: 6155.0000 - tn: 175799.0000 - fn: 63.0000 - accuracy: 0.9659 - precision: 0.0404 - recall: 0.8043 - auc: 0.9192 - f1_m: 0.0752 - val_loss: 0.0580 - val_tp: 69.0000 - val_fp: 655.0000 - val_tn: 44841.0000 - val_fn: 4.0000 - val_accuracy: 0.9855 - val_precision: 0.0953 - val_recall: 0.9452 - val_auc: 0.9876 - val_f1_m: 0.1716\n",
      "Epoch 17/100\n",
      "90/90 [==============================] - 1s 6ms/step - loss: 0.4187 - tp: 266.0000 - fp: 6405.0000 - tn: 175549.0000 - fn: 56.0000 - accuracy: 0.9646 - precision: 0.0399 - recall: 0.8261 - auc: 0.9262 - f1_m: 0.0856 - val_loss: 0.0612 - val_tp: 69.0000 - val_fp: 688.0000 - val_tn: 44808.0000 - val_fn: 4.0000 - val_accuracy: 0.9848 - val_precision: 0.0911 - val_recall: 0.9452 - val_auc: 0.9901 - val_f1_m: 0.1662\n",
      "Epoch 18/100\n",
      "90/90 [==============================] - 1s 6ms/step - loss: 0.4896 - tp: 261.0000 - fp: 7892.0000 - tn: 174062.0000 - fn: 61.0000 - accuracy: 0.9564 - precision: 0.0320 - recall: 0.8106 - auc: 0.9024 - f1_m: 0.0596 - val_loss: 0.0752 - val_tp: 70.0000 - val_fp: 845.0000 - val_tn: 44651.0000 - val_fn: 3.0000 - val_accuracy: 0.9814 - val_precision: 0.0765 - val_recall: 0.9589 - val_auc: 0.9894 - val_f1_m: 0.1418\n",
      "Epoch 19/100\n",
      "90/90 [==============================] - 1s 6ms/step - loss: 0.4766 - tp: 261.0000 - fp: 8104.0000 - tn: 173850.0000 - fn: 61.0000 - accuracy: 0.9552 - precision: 0.0312 - recall: 0.8106 - auc: 0.9070 - f1_m: 0.0595 - val_loss: 0.0767 - val_tp: 70.0000 - val_fp: 863.0000 - val_tn: 44633.0000 - val_fn: 3.0000 - val_accuracy: 0.9810 - val_precision: 0.0750 - val_recall: 0.9589 - val_auc: 0.9893 - val_f1_m: 0.1396\n",
      "Epoch 20/100\n"
     ]
    },
    {
     "name": "stdout",
     "output_type": "stream",
     "text": [
      "90/90 [==============================] - 1s 6ms/step - loss: 0.5359 - tp: 258.0000 - fp: 8125.0000 - tn: 173829.0000 - fn: 64.0000 - accuracy: 0.9551 - precision: 0.0308 - recall: 0.8012 - auc: 0.8904 - f1_m: 0.0578 - val_loss: 0.0783 - val_tp: 70.0000 - val_fp: 885.0000 - val_tn: 44611.0000 - val_fn: 3.0000 - val_accuracy: 0.9805 - val_precision: 0.0733 - val_recall: 0.9589 - val_auc: 0.9895 - val_f1_m: 0.1369\n",
      "Epoch 21/100\n",
      "90/90 [==============================] - 1s 7ms/step - loss: 0.4274 - tp: 269.0000 - fp: 8198.0000 - tn: 173756.0000 - fn: 53.0000 - accuracy: 0.9547 - precision: 0.0318 - recall: 0.8354 - auc: 0.9175 - f1_m: 0.0601 - val_loss: 0.0779 - val_tp: 70.0000 - val_fp: 880.0000 - val_tn: 44616.0000 - val_fn: 3.0000 - val_accuracy: 0.9806 - val_precision: 0.0737 - val_recall: 0.9589 - val_auc: 0.9896 - val_f1_m: 0.1373\n",
      "Epoch 22/100\n",
      "90/90 [==============================] - 1s 6ms/step - loss: 0.4416 - tp: 266.0000 - fp: 8130.0000 - tn: 173824.0000 - fn: 56.0000 - accuracy: 0.9551 - precision: 0.0317 - recall: 0.8261 - auc: 0.9129 - f1_m: 0.0597 - val_loss: 0.0775 - val_tp: 70.0000 - val_fp: 867.0000 - val_tn: 44629.0000 - val_fn: 3.0000 - val_accuracy: 0.9809 - val_precision: 0.0747 - val_recall: 0.9589 - val_auc: 0.9909 - val_f1_m: 0.1388\n",
      "Epoch 23/100\n",
      "90/90 [==============================] - 1s 6ms/step - loss: 0.3789 - tp: 274.0000 - fp: 8083.0000 - tn: 173871.0000 - fn: 48.0000 - accuracy: 0.9554 - precision: 0.0328 - recall: 0.8509 - auc: 0.9328 - f1_m: 0.0619 - val_loss: 0.0777 - val_tp: 70.0000 - val_fp: 870.0000 - val_tn: 44626.0000 - val_fn: 3.0000 - val_accuracy: 0.9808 - val_precision: 0.0745 - val_recall: 0.9589 - val_auc: 0.9912 - val_f1_m: 0.1382\n",
      "Epoch 24/100\n",
      "90/90 [==============================] - 1s 8ms/step - loss: 0.5249 - tp: 255.0000 - fp: 8167.0000 - tn: 173787.0000 - fn: 67.0000 - accuracy: 0.9548 - precision: 0.0303 - recall: 0.7919 - auc: 0.8940 - f1_m: 0.0567 - val_loss: 0.0786 - val_tp: 70.0000 - val_fp: 878.0000 - val_tn: 44618.0000 - val_fn: 3.0000 - val_accuracy: 0.9807 - val_precision: 0.0738 - val_recall: 0.9589 - val_auc: 0.9911 - val_f1_m: 0.1376\n",
      "Epoch 25/100\n",
      "90/90 [==============================] - 1s 7ms/step - loss: 0.4361 - tp: 271.0000 - fp: 8082.0000 - tn: 173872.0000 - fn: 51.0000 - accuracy: 0.9554 - precision: 0.0324 - recall: 0.8416 - auc: 0.9133 - f1_m: 0.0610 - val_loss: 0.0761 - val_tp: 70.0000 - val_fp: 839.0000 - val_tn: 44657.0000 - val_fn: 3.0000 - val_accuracy: 0.9815 - val_precision: 0.0770 - val_recall: 0.9589 - val_auc: 0.9914 - val_f1_m: 0.1430\n",
      "Epoch 26/100\n",
      "90/90 [==============================] - 1s 7ms/step - loss: 0.3560 - tp: 276.0000 - fp: 8045.0000 - tn: 173909.0000 - fn: 46.0000 - accuracy: 0.9556 - precision: 0.0332 - recall: 0.8571 - auc: 0.9370 - f1_m: 0.0629 - val_loss: 0.0758 - val_tp: 70.0000 - val_fp: 830.0000 - val_tn: 44666.0000 - val_fn: 3.0000 - val_accuracy: 0.9817 - val_precision: 0.0778 - val_recall: 0.9589 - val_auc: 0.9913 - val_f1_m: 0.1442\n",
      "Epoch 27/100\n",
      "90/90 [==============================] - 1s 6ms/step - loss: 0.4369 - tp: 269.0000 - fp: 7862.0000 - tn: 174092.0000 - fn: 53.0000 - accuracy: 0.9566 - precision: 0.0331 - recall: 0.8354 - auc: 0.9137 - f1_m: 0.0622 - val_loss: 0.0766 - val_tp: 70.0000 - val_fp: 839.0000 - val_tn: 44657.0000 - val_fn: 3.0000 - val_accuracy: 0.9815 - val_precision: 0.0770 - val_recall: 0.9589 - val_auc: 0.9913 - val_f1_m: 0.1426\n",
      "Epoch 28/100\n",
      "90/90 [==============================] - 1s 6ms/step - loss: 0.4287 - tp: 270.0000 - fp: 7963.0000 - tn: 173991.0000 - fn: 52.0000 - accuracy: 0.9560 - precision: 0.0328 - recall: 0.8385 - auc: 0.9147 - f1_m: 0.0618 - val_loss: 0.0755 - val_tp: 70.0000 - val_fp: 829.0000 - val_tn: 44667.0000 - val_fn: 3.0000 - val_accuracy: 0.9817 - val_precision: 0.0779 - val_recall: 0.9589 - val_auc: 0.9914 - val_f1_m: 0.1439\n",
      "Epoch 29/100\n",
      "90/90 [==============================] - 1s 6ms/step - loss: 0.4132 - tp: 270.0000 - fp: 7604.0000 - tn: 174350.0000 - fn: 52.0000 - accuracy: 0.9580 - precision: 0.0343 - recall: 0.8385 - auc: 0.9182 - f1_m: 0.0645 - val_loss: 0.0754 - val_tp: 70.0000 - val_fp: 821.0000 - val_tn: 44675.0000 - val_fn: 3.0000 - val_accuracy: 0.9819 - val_precision: 0.0786 - val_recall: 0.9589 - val_auc: 0.9913 - val_f1_m: 0.1449\n",
      "Epoch 30/100\n",
      "90/90 [==============================] - 1s 6ms/step - loss: 0.3503 - tp: 280.0000 - fp: 7782.0000 - tn: 174172.0000 - fn: 42.0000 - accuracy: 0.9571 - precision: 0.0347 - recall: 0.8696 - auc: 0.9362 - f1_m: 0.0659 - val_loss: 0.0743 - val_tp: 70.0000 - val_fp: 807.0000 - val_tn: 44689.0000 - val_fn: 3.0000 - val_accuracy: 0.9822 - val_precision: 0.0798 - val_recall: 0.9589 - val_auc: 0.9915 - val_f1_m: 0.1466\n",
      "Epoch 31/100\n",
      "90/90 [==============================] - 1s 7ms/step - loss: 0.4842 - tp: 256.0000 - fp: 7711.0000 - tn: 174243.0000 - fn: 66.0000 - accuracy: 0.9573 - precision: 0.0321 - recall: 0.7950 - auc: 0.9034 - f1_m: 0.0607 - val_loss: 0.0749 - val_tp: 70.0000 - val_fp: 806.0000 - val_tn: 44690.0000 - val_fn: 3.0000 - val_accuracy: 0.9822 - val_precision: 0.0799 - val_recall: 0.9589 - val_auc: 0.9924 - val_f1_m: 0.1466\n",
      "Epoch 32/100\n",
      "90/90 [==============================] - 1s 7ms/step - loss: 0.3417 - tp: 277.0000 - fp: 7789.0000 - tn: 174165.0000 - fn: 45.0000 - accuracy: 0.9570 - precision: 0.0343 - recall: 0.8602 - auc: 0.9407 - f1_m: 0.0651 - val_loss: 0.0750 - val_tp: 70.0000 - val_fp: 808.0000 - val_tn: 44688.0000 - val_fn: 3.0000 - val_accuracy: 0.9822 - val_precision: 0.0797 - val_recall: 0.9589 - val_auc: 0.9926 - val_f1_m: 0.1462\n",
      "Epoch 33/100\n",
      "90/90 [==============================] - 1s 7ms/step - loss: 0.4249 - tp: 268.0000 - fp: 7603.0000 - tn: 174351.0000 - fn: 54.0000 - accuracy: 0.9580 - precision: 0.0340 - recall: 0.8323 - auc: 0.9123 - f1_m: 0.0645 - val_loss: 0.0738 - val_tp: 70.0000 - val_fp: 781.0000 - val_tn: 44715.0000 - val_fn: 3.0000 - val_accuracy: 0.9828 - val_precision: 0.0823 - val_recall: 0.9589 - val_auc: 0.9926 - val_f1_m: 0.1500\n",
      "Epoch 34/100\n",
      "90/90 [==============================] - 1s 8ms/step - loss: 0.4216 - tp: 264.0000 - fp: 7666.0000 - tn: 174288.0000 - fn: 58.0000 - accuracy: 0.9576 - precision: 0.0333 - recall: 0.8199 - auc: 0.9162 - f1_m: 0.0626 - val_loss: 0.0716 - val_tp: 70.0000 - val_fp: 750.0000 - val_tn: 44746.0000 - val_fn: 3.0000 - val_accuracy: 0.9835 - val_precision: 0.0854 - val_recall: 0.9589 - val_auc: 0.9926 - val_f1_m: 0.1559\n",
      "Epoch 35/100\n",
      "90/90 [==============================] - 1s 8ms/step - loss: 0.3948 - tp: 274.0000 - fp: 7444.0000 - tn: 174510.0000 - fn: 48.0000 - accuracy: 0.9589 - precision: 0.0355 - recall: 0.8509 - auc: 0.9233 - f1_m: 0.0668 - val_loss: 0.0707 - val_tp: 70.0000 - val_fp: 735.0000 - val_tn: 44761.0000 - val_fn: 3.0000 - val_accuracy: 0.9838 - val_precision: 0.0870 - val_recall: 0.9589 - val_auc: 0.9928 - val_f1_m: 0.1568\n",
      "Epoch 36/100\n",
      "90/90 [==============================] - 1s 8ms/step - loss: 0.4558 - tp: 260.0000 - fp: 7320.0000 - tn: 174634.0000 - fn: 62.0000 - accuracy: 0.9595 - precision: 0.0343 - recall: 0.8075 - auc: 0.9078 - f1_m: 0.0645 - val_loss: 0.0710 - val_tp: 70.0000 - val_fp: 739.0000 - val_tn: 44757.0000 - val_fn: 3.0000 - val_accuracy: 0.9837 - val_precision: 0.0865 - val_recall: 0.9589 - val_auc: 0.9927 - val_f1_m: 0.1569\n",
      "Epoch 37/100\n",
      "90/90 [==============================] - 1s 8ms/step - loss: 0.3894 - tp: 272.0000 - fp: 7280.0000 - tn: 174674.0000 - fn: 50.0000 - accuracy: 0.9598 - precision: 0.0360 - recall: 0.8447 - auc: 0.9235 - f1_m: 0.0673 - val_loss: 0.0709 - val_tp: 70.0000 - val_fp: 738.0000 - val_tn: 44758.0000 - val_fn: 3.0000 - val_accuracy: 0.9837 - val_precision: 0.0866 - val_recall: 0.9589 - val_auc: 0.9935 - val_f1_m: 0.1573\n",
      "Epoch 38/100\n",
      "90/90 [==============================] - 1s 7ms/step - loss: 0.5916 - tp: 246.0000 - fp: 7523.0000 - tn: 174431.0000 - fn: 76.0000 - accuracy: 0.9583 - precision: 0.0317 - recall: 0.7640 - auc: 0.8707 - f1_m: 0.0597 - val_loss: 0.0727 - val_tp: 70.0000 - val_fp: 765.0000 - val_tn: 44731.0000 - val_fn: 3.0000 - val_accuracy: 0.9831 - val_precision: 0.0838 - val_recall: 0.9589 - val_auc: 0.9936 - val_f1_m: 0.1532\n",
      "Epoch 39/100\n"
     ]
    },
    {
     "name": "stdout",
     "output_type": "stream",
     "text": [
      "90/90 [==============================] - 1s 8ms/step - loss: 0.4407 - tp: 268.0000 - fp: 7477.0000 - tn: 174477.0000 - fn: 54.0000 - accuracy: 0.9587 - precision: 0.0346 - recall: 0.8323 - auc: 0.9086 - f1_m: 0.0651 - val_loss: 0.0719 - val_tp: 70.0000 - val_fp: 758.0000 - val_tn: 44738.0000 - val_fn: 3.0000 - val_accuracy: 0.9833 - val_precision: 0.0845 - val_recall: 0.9589 - val_auc: 0.9936 - val_f1_m: 0.1542\n",
      "Epoch 40/100\n",
      "90/90 [==============================] - 1s 8ms/step - loss: 0.4495 - tp: 268.0000 - fp: 7311.0000 - tn: 174643.0000 - fn: 54.0000 - accuracy: 0.9596 - precision: 0.0354 - recall: 0.8323 - auc: 0.9063 - f1_m: 0.0667 - val_loss: 0.0707 - val_tp: 70.0000 - val_fp: 732.0000 - val_tn: 44764.0000 - val_fn: 3.0000 - val_accuracy: 0.9839 - val_precision: 0.0873 - val_recall: 0.9589 - val_auc: 0.9938 - val_f1_m: 0.1605\n",
      "Epoch 41/100\n",
      "90/90 [==============================] - 1s 7ms/step - loss: 0.3481 - tp: 273.0000 - fp: 7224.0000 - tn: 174730.0000 - fn: 49.0000 - accuracy: 0.9601 - precision: 0.0364 - recall: 0.8478 - auc: 0.9387 - f1_m: 0.0679 - val_loss: 0.0707 - val_tp: 70.0000 - val_fp: 726.0000 - val_tn: 44770.0000 - val_fn: 3.0000 - val_accuracy: 0.9840 - val_precision: 0.0879 - val_recall: 0.9589 - val_auc: 0.9939 - val_f1_m: 0.1619\n",
      "Epoch 42/100\n",
      "90/90 [==============================] - 1s 8ms/step - loss: 0.3648 - tp: 270.0000 - fp: 7239.0000 - tn: 174715.0000 - fn: 52.0000 - accuracy: 0.9600 - precision: 0.0360 - recall: 0.8385 - auc: 0.9376 - f1_m: 0.0670 - val_loss: 0.0720 - val_tp: 70.0000 - val_fp: 741.0000 - val_tn: 44755.0000 - val_fn: 3.0000 - val_accuracy: 0.9837 - val_precision: 0.0863 - val_recall: 0.9589 - val_auc: 0.9939 - val_f1_m: 0.1591\n",
      "Epoch 43/100\n",
      "90/90 [==============================] - 1s 8ms/step - loss: 0.3594 - tp: 272.0000 - fp: 7583.0000 - tn: 174371.0000 - fn: 50.0000 - accuracy: 0.9581 - precision: 0.0346 - recall: 0.8447 - auc: 0.9395 - f1_m: 0.0650 - val_loss: 0.0748 - val_tp: 70.0000 - val_fp: 782.0000 - val_tn: 44714.0000 - val_fn: 3.0000 - val_accuracy: 0.9828 - val_precision: 0.0822 - val_recall: 0.9589 - val_auc: 0.9943 - val_f1_m: 0.1494\n",
      "Epoch 44/100\n",
      "90/90 [==============================] - 1s 7ms/step - loss: 0.4031 - tp: 266.0000 - fp: 7597.0000 - tn: 174357.0000 - fn: 56.0000 - accuracy: 0.9580 - precision: 0.0338 - recall: 0.8261 - auc: 0.9252 - f1_m: 0.0631 - val_loss: 0.0767 - val_tp: 70.0000 - val_fp: 795.0000 - val_tn: 44701.0000 - val_fn: 3.0000 - val_accuracy: 0.9825 - val_precision: 0.0809 - val_recall: 0.9589 - val_auc: 0.9943 - val_f1_m: 0.1483\n",
      "Epoch 45/100\n",
      "90/90 [==============================] - 1s 8ms/step - loss: 0.3534 - tp: 270.0000 - fp: 7762.0000 - tn: 174192.0000 - fn: 52.0000 - accuracy: 0.9571 - precision: 0.0336 - recall: 0.8385 - auc: 0.9380 - f1_m: 0.0631 - val_loss: 0.0780 - val_tp: 70.0000 - val_fp: 806.0000 - val_tn: 44690.0000 - val_fn: 3.0000 - val_accuracy: 0.9822 - val_precision: 0.0799 - val_recall: 0.9589 - val_auc: 0.9946 - val_f1_m: 0.1466\n",
      "Epoch 46/100\n",
      "90/90 [==============================] - 1s 8ms/step - loss: 0.3085 - tp: 282.0000 - fp: 7629.0000 - tn: 174325.0000 - fn: 40.0000 - accuracy: 0.9579 - precision: 0.0356 - recall: 0.8758 - auc: 0.9461 - f1_m: 0.0667 - val_loss: 0.0771 - val_tp: 70.0000 - val_fp: 792.0000 - val_tn: 44704.0000 - val_fn: 3.0000 - val_accuracy: 0.9826 - val_precision: 0.0812 - val_recall: 0.9589 - val_auc: 0.9942 - val_f1_m: 0.1495\n",
      "Epoch 47/100\n",
      "90/90 [==============================] - 1s 7ms/step - loss: 0.3551 - tp: 277.0000 - fp: 7432.0000 - tn: 174522.0000 - fn: 45.0000 - accuracy: 0.9590 - precision: 0.0359 - recall: 0.8602 - auc: 0.9365 - f1_m: 0.0670 - val_loss: 0.0744 - val_tp: 70.0000 - val_fp: 759.0000 - val_tn: 44737.0000 - val_fn: 3.0000 - val_accuracy: 0.9833 - val_precision: 0.0844 - val_recall: 0.9589 - val_auc: 0.9944 - val_f1_m: 0.1564\n",
      "Epoch 48/100\n",
      "90/90 [==============================] - 1s 7ms/step - loss: 0.2890 - tp: 284.0000 - fp: 7153.0000 - tn: 174801.0000 - fn: 38.0000 - accuracy: 0.9605 - precision: 0.0382 - recall: 0.8820 - auc: 0.9501 - f1_m: 0.0710 - val_loss: 0.0718 - val_tp: 70.0000 - val_fp: 729.0000 - val_tn: 44767.0000 - val_fn: 3.0000 - val_accuracy: 0.9839 - val_precision: 0.0876 - val_recall: 0.9589 - val_auc: 0.9944 - val_f1_m: 0.1611\n",
      "Epoch 49/100\n",
      "90/90 [==============================] - 1s 6ms/step - loss: 0.3617 - tp: 271.0000 - fp: 7278.0000 - tn: 174676.0000 - fn: 51.0000 - accuracy: 0.9598 - precision: 0.0359 - recall: 0.8416 - auc: 0.9348 - f1_m: 0.0677 - val_loss: 0.0743 - val_tp: 70.0000 - val_fp: 746.0000 - val_tn: 44750.0000 - val_fn: 3.0000 - val_accuracy: 0.9836 - val_precision: 0.0858 - val_recall: 0.9589 - val_auc: 0.9948 - val_f1_m: 0.1607\n",
      "Epoch 50/100\n",
      "90/90 [==============================] - 1s 6ms/step - loss: 0.3024 - tp: 281.0000 - fp: 7175.0000 - tn: 174779.0000 - fn: 41.0000 - accuracy: 0.9604 - precision: 0.0377 - recall: 0.8727 - auc: 0.9475 - f1_m: 0.0706 - val_loss: 0.0742 - val_tp: 70.0000 - val_fp: 739.0000 - val_tn: 44757.0000 - val_fn: 3.0000 - val_accuracy: 0.9837 - val_precision: 0.0865 - val_recall: 0.9589 - val_auc: 0.9948 - val_f1_m: 0.1617\n",
      "Epoch 51/100\n",
      "90/90 [==============================] - 1s 7ms/step - loss: 0.3220 - tp: 274.0000 - fp: 7352.0000 - tn: 174602.0000 - fn: 48.0000 - accuracy: 0.9594 - precision: 0.0359 - recall: 0.8509 - auc: 0.9453 - f1_m: 0.0675 - val_loss: 0.0754 - val_tp: 70.0000 - val_fp: 742.0000 - val_tn: 44754.0000 - val_fn: 3.0000 - val_accuracy: 0.9837 - val_precision: 0.0862 - val_recall: 0.9589 - val_auc: 0.9950 - val_f1_m: 0.1618\n",
      "Epoch 52/100\n",
      "90/90 [==============================] - 1s 7ms/step - loss: 0.2846 - tp: 282.0000 - fp: 7451.0000 - tn: 174503.0000 - fn: 40.0000 - accuracy: 0.9589 - precision: 0.0365 - recall: 0.8758 - auc: 0.9514 - f1_m: 0.0689 - val_loss: 0.0727 - val_tp: 70.0000 - val_fp: 698.0000 - val_tn: 44798.0000 - val_fn: 3.0000 - val_accuracy: 0.9846 - val_precision: 0.0911 - val_recall: 0.9589 - val_auc: 0.9951 - val_f1_m: 0.1695\n",
      "Epoch 53/100\n",
      "90/90 [==============================] - 1s 7ms/step - loss: 0.3600 - tp: 273.0000 - fp: 6985.0000 - tn: 174969.0000 - fn: 49.0000 - accuracy: 0.9614 - precision: 0.0376 - recall: 0.8478 - auc: 0.9303 - f1_m: 0.0705 - val_loss: 0.0690 - val_tp: 70.0000 - val_fp: 654.0000 - val_tn: 44842.0000 - val_fn: 3.0000 - val_accuracy: 0.9856 - val_precision: 0.0967 - val_recall: 0.9589 - val_auc: 0.9953 - val_f1_m: 0.1773\n",
      "Epoch 54/100\n",
      "90/90 [==============================] - 1s 7ms/step - loss: 0.2960 - tp: 278.0000 - fp: 6688.0000 - tn: 175266.0000 - fn: 44.0000 - accuracy: 0.9631 - precision: 0.0399 - recall: 0.8634 - auc: 0.9526 - f1_m: 0.0742 - val_loss: 0.0705 - val_tp: 70.0000 - val_fp: 671.0000 - val_tn: 44825.0000 - val_fn: 3.0000 - val_accuracy: 0.9852 - val_precision: 0.0945 - val_recall: 0.9589 - val_auc: 0.9955 - val_f1_m: 0.1743\n",
      "Epoch 55/100\n",
      "90/90 [==============================] - 1s 7ms/step - loss: 0.3359 - tp: 272.0000 - fp: 6845.0000 - tn: 175109.0000 - fn: 50.0000 - accuracy: 0.9622 - precision: 0.0382 - recall: 0.8447 - auc: 0.9363 - f1_m: 0.0721 - val_loss: 0.0688 - val_tp: 70.0000 - val_fp: 649.0000 - val_tn: 44847.0000 - val_fn: 3.0000 - val_accuracy: 0.9857 - val_precision: 0.0974 - val_recall: 0.9589 - val_auc: 0.9956 - val_f1_m: 0.1788\n",
      "Epoch 56/100\n",
      "90/90 [==============================] - 1s 7ms/step - loss: 0.3596 - tp: 274.0000 - fp: 6640.0000 - tn: 175314.0000 - fn: 48.0000 - accuracy: 0.9633 - precision: 0.0396 - recall: 0.8509 - auc: 0.9318 - f1_m: 0.0745 - val_loss: 0.0669 - val_tp: 70.0000 - val_fp: 614.0000 - val_tn: 44882.0000 - val_fn: 3.0000 - val_accuracy: 0.9865 - val_precision: 0.1023 - val_recall: 0.9589 - val_auc: 0.9959 - val_f1_m: 0.1898\n",
      "Epoch 57/100\n",
      "90/90 [==============================] - 1s 7ms/step - loss: 0.3030 - tp: 279.0000 - fp: 6504.0000 - tn: 175450.0000 - fn: 43.0000 - accuracy: 0.9641 - precision: 0.0411 - recall: 0.8665 - auc: 0.9559 - f1_m: 0.0769 - val_loss: 0.0636 - val_tp: 70.0000 - val_fp: 571.0000 - val_tn: 44925.0000 - val_fn: 3.0000 - val_accuracy: 0.9874 - val_precision: 0.1092 - val_recall: 0.9589 - val_auc: 0.9960 - val_f1_m: 0.1988\n",
      "Epoch 58/100\n"
     ]
    },
    {
     "name": "stdout",
     "output_type": "stream",
     "text": [
      "90/90 [==============================] - 1s 7ms/step - loss: 0.3239 - tp: 277.0000 - fp: 6434.0000 - tn: 175520.0000 - fn: 45.0000 - accuracy: 0.9645 - precision: 0.0413 - recall: 0.8602 - auc: 0.9501 - f1_m: 0.0872 - val_loss: 0.0642 - val_tp: 70.0000 - val_fp: 579.0000 - val_tn: 44917.0000 - val_fn: 3.0000 - val_accuracy: 0.9872 - val_precision: 0.1079 - val_recall: 0.9589 - val_auc: 0.9960 - val_f1_m: 0.1924\n",
      "Epoch 59/100\n",
      "90/90 [==============================] - 1s 7ms/step - loss: 0.2567 - tp: 286.0000 - fp: 6664.0000 - tn: 175290.0000 - fn: 36.0000 - accuracy: 0.9632 - precision: 0.0412 - recall: 0.8882 - auc: 0.9625 - f1_m: 0.0775 - val_loss: 0.0683 - val_tp: 70.0000 - val_fp: 639.0000 - val_tn: 44857.0000 - val_fn: 3.0000 - val_accuracy: 0.9859 - val_precision: 0.0987 - val_recall: 0.9589 - val_auc: 0.9960 - val_f1_m: 0.1800\n",
      "Epoch 60/100\n",
      "90/90 [==============================] - 1s 6ms/step - loss: 0.3079 - tp: 277.0000 - fp: 6557.0000 - tn: 175397.0000 - fn: 45.0000 - accuracy: 0.9638 - precision: 0.0405 - recall: 0.8602 - auc: 0.9544 - f1_m: 0.0749 - val_loss: 0.0688 - val_tp: 70.0000 - val_fp: 648.0000 - val_tn: 44848.0000 - val_fn: 3.0000 - val_accuracy: 0.9857 - val_precision: 0.0975 - val_recall: 0.9589 - val_auc: 0.9963 - val_f1_m: 0.1780\n",
      "Epoch 61/100\n",
      "90/90 [==============================] - 1s 6ms/step - loss: 0.2680 - tp: 285.0000 - fp: 6522.0000 - tn: 175432.0000 - fn: 37.0000 - accuracy: 0.9640 - precision: 0.0419 - recall: 0.8851 - auc: 0.9627 - f1_m: 0.0774 - val_loss: 0.0662 - val_tp: 70.0000 - val_fp: 614.0000 - val_tn: 44882.0000 - val_fn: 3.0000 - val_accuracy: 0.9865 - val_precision: 0.1023 - val_recall: 0.9589 - val_auc: 0.9965 - val_f1_m: 0.1858\n",
      "Epoch 62/100\n",
      "90/90 [==============================] - 1s 6ms/step - loss: 0.2779 - tp: 280.0000 - fp: 6211.0000 - tn: 175743.0000 - fn: 42.0000 - accuracy: 0.9657 - precision: 0.0431 - recall: 0.8696 - auc: 0.9618 - f1_m: 0.0802 - val_loss: 0.0673 - val_tp: 70.0000 - val_fp: 628.0000 - val_tn: 44868.0000 - val_fn: 3.0000 - val_accuracy: 0.9862 - val_precision: 0.1003 - val_recall: 0.9589 - val_auc: 0.9965 - val_f1_m: 0.1828\n",
      "Epoch 63/100\n",
      "90/90 [==============================] - 1s 6ms/step - loss: 0.3034 - tp: 276.0000 - fp: 6381.0000 - tn: 175573.0000 - fn: 46.0000 - accuracy: 0.9647 - precision: 0.0415 - recall: 0.8571 - auc: 0.9561 - f1_m: 0.0776 - val_loss: 0.0637 - val_tp: 70.0000 - val_fp: 573.0000 - val_tn: 44923.0000 - val_fn: 3.0000 - val_accuracy: 0.9874 - val_precision: 0.1089 - val_recall: 0.9589 - val_auc: 0.9966 - val_f1_m: 0.1950\n",
      "Epoch 64/100\n",
      "90/90 [==============================] - 1s 6ms/step - loss: 0.3189 - tp: 273.0000 - fp: 6500.0000 - tn: 175454.0000 - fn: 49.0000 - accuracy: 0.9641 - precision: 0.0403 - recall: 0.8478 - auc: 0.9539 - f1_m: 0.0748 - val_loss: 0.0685 - val_tp: 70.0000 - val_fp: 635.0000 - val_tn: 44861.0000 - val_fn: 3.0000 - val_accuracy: 0.9860 - val_precision: 0.0993 - val_recall: 0.9589 - val_auc: 0.9966 - val_f1_m: 0.1806\n",
      "Epoch 65/100\n",
      "90/90 [==============================] - 1s 6ms/step - loss: 0.3196 - tp: 282.0000 - fp: 6376.0000 - tn: 175578.0000 - fn: 40.0000 - accuracy: 0.9648 - precision: 0.0424 - recall: 0.8758 - auc: 0.9466 - f1_m: 0.0787 - val_loss: 0.0619 - val_tp: 70.0000 - val_fp: 548.0000 - val_tn: 44948.0000 - val_fn: 3.0000 - val_accuracy: 0.9879 - val_precision: 0.1133 - val_recall: 0.9589 - val_auc: 0.9968 - val_f1_m: 0.2003\n",
      "Epoch 66/100\n",
      "90/90 [==============================] - 1s 6ms/step - loss: 0.2702 - tp: 277.0000 - fp: 6221.0000 - tn: 175733.0000 - fn: 45.0000 - accuracy: 0.9656 - precision: 0.0426 - recall: 0.8602 - auc: 0.9633 - f1_m: 0.0790 - val_loss: 0.0645 - val_tp: 70.0000 - val_fp: 582.0000 - val_tn: 44914.0000 - val_fn: 3.0000 - val_accuracy: 0.9872 - val_precision: 0.1074 - val_recall: 0.9589 - val_auc: 0.9965 - val_f1_m: 0.1919\n",
      "Epoch 67/100\n",
      "90/90 [==============================] - 1s 6ms/step - loss: 0.2425 - tp: 291.0000 - fp: 6290.0000 - tn: 175664.0000 - fn: 31.0000 - accuracy: 0.9653 - precision: 0.0442 - recall: 0.9037 - auc: 0.9681 - f1_m: 0.0830 - val_loss: 0.0633 - val_tp: 70.0000 - val_fp: 575.0000 - val_tn: 44921.0000 - val_fn: 3.0000 - val_accuracy: 0.9873 - val_precision: 0.1085 - val_recall: 0.9589 - val_auc: 0.9967 - val_f1_m: 0.1942\n",
      "Epoch 68/100\n",
      "90/90 [==============================] - 1s 6ms/step - loss: 0.2657 - tp: 283.0000 - fp: 5962.0000 - tn: 175992.0000 - fn: 39.0000 - accuracy: 0.9671 - precision: 0.0453 - recall: 0.8789 - auc: 0.9647 - f1_m: 0.0835 - val_loss: 0.0607 - val_tp: 70.0000 - val_fp: 530.0000 - val_tn: 44966.0000 - val_fn: 3.0000 - val_accuracy: 0.9883 - val_precision: 0.1167 - val_recall: 0.9589 - val_auc: 0.9967 - val_f1_m: 0.2055\n",
      "Epoch 69/100\n",
      "90/90 [==============================] - 1s 6ms/step - loss: 0.2697 - tp: 278.0000 - fp: 6065.0000 - tn: 175889.0000 - fn: 44.0000 - accuracy: 0.9665 - precision: 0.0438 - recall: 0.8634 - auc: 0.9641 - f1_m: 0.0818 - val_loss: 0.0621 - val_tp: 70.0000 - val_fp: 541.0000 - val_tn: 44955.0000 - val_fn: 3.0000 - val_accuracy: 0.9881 - val_precision: 0.1146 - val_recall: 0.9589 - val_auc: 0.9967 - val_f1_m: 0.2038\n",
      "Epoch 70/100\n",
      "90/90 [==============================] - 1s 6ms/step - loss: 0.2975 - tp: 276.0000 - fp: 6113.0000 - tn: 175841.0000 - fn: 46.0000 - accuracy: 0.9662 - precision: 0.0432 - recall: 0.8571 - auc: 0.9587 - f1_m: 0.0809 - val_loss: 0.0635 - val_tp: 70.0000 - val_fp: 564.0000 - val_tn: 44932.0000 - val_fn: 3.0000 - val_accuracy: 0.9876 - val_precision: 0.1104 - val_recall: 0.9589 - val_auc: 0.9968 - val_f1_m: 0.1973\n",
      "Epoch 71/100\n",
      "90/90 [==============================] - 1s 6ms/step - loss: 0.3250 - tp: 274.0000 - fp: 6140.0000 - tn: 175814.0000 - fn: 48.0000 - accuracy: 0.9661 - precision: 0.0427 - recall: 0.8509 - auc: 0.9527 - f1_m: 0.0796 - val_loss: 0.0632 - val_tp: 70.0000 - val_fp: 567.0000 - val_tn: 44929.0000 - val_fn: 3.0000 - val_accuracy: 0.9875 - val_precision: 0.1099 - val_recall: 0.9589 - val_auc: 0.9969 - val_f1_m: 0.1971\n",
      "Epoch 72/100\n",
      "90/90 [==============================] - 1s 6ms/step - loss: 0.3068 - tp: 280.0000 - fp: 6298.0000 - tn: 175656.0000 - fn: 42.0000 - accuracy: 0.9652 - precision: 0.0426 - recall: 0.8696 - auc: 0.9535 - f1_m: 0.0792 - val_loss: 0.0645 - val_tp: 70.0000 - val_fp: 611.0000 - val_tn: 44885.0000 - val_fn: 3.0000 - val_accuracy: 0.9865 - val_precision: 0.1028 - val_recall: 0.9589 - val_auc: 0.9969 - val_f1_m: 0.1862\n",
      "Epoch 73/100\n",
      "90/90 [==============================] - 1s 6ms/step - loss: 0.2841 - tp: 275.0000 - fp: 5928.0000 - tn: 176026.0000 - fn: 47.0000 - accuracy: 0.9672 - precision: 0.0443 - recall: 0.8540 - auc: 0.9617 - f1_m: 0.0814 - val_loss: 0.0642 - val_tp: 70.0000 - val_fp: 595.0000 - val_tn: 44901.0000 - val_fn: 3.0000 - val_accuracy: 0.9869 - val_precision: 0.1053 - val_recall: 0.9589 - val_auc: 0.9969 - val_f1_m: 0.1901\n",
      "Epoch 74/100\n",
      "90/90 [==============================] - 1s 6ms/step - loss: 0.3134 - tp: 275.0000 - fp: 6066.0000 - tn: 175888.0000 - fn: 47.0000 - accuracy: 0.9665 - precision: 0.0434 - recall: 0.8540 - auc: 0.9531 - f1_m: 0.0809 - val_loss: 0.0649 - val_tp: 70.0000 - val_fp: 603.0000 - val_tn: 44893.0000 - val_fn: 3.0000 - val_accuracy: 0.9867 - val_precision: 0.1040 - val_recall: 0.9589 - val_auc: 0.9968 - val_f1_m: 0.1881\n",
      "Epoch 75/100\n",
      "90/90 [==============================] - 1s 6ms/step - loss: 0.2854 - tp: 279.0000 - fp: 6023.0000 - tn: 175931.0000 - fn: 43.0000 - accuracy: 0.9667 - precision: 0.0443 - recall: 0.8665 - auc: 0.9580 - f1_m: 0.0836 - val_loss: 0.0643 - val_tp: 70.0000 - val_fp: 596.0000 - val_tn: 44900.0000 - val_fn: 3.0000 - val_accuracy: 0.9869 - val_precision: 0.1051 - val_recall: 0.9589 - val_auc: 0.9968 - val_f1_m: 0.1894\n",
      "Epoch 76/100\n",
      "90/90 [==============================] - 1s 6ms/step - loss: 0.2567 - tp: 280.0000 - fp: 5957.0000 - tn: 175997.0000 - fn: 42.0000 - accuracy: 0.9671 - precision: 0.0449 - recall: 0.8696 - auc: 0.9656 - f1_m: 0.0828 - val_loss: 0.0649 - val_tp: 70.0000 - val_fp: 605.0000 - val_tn: 44891.0000 - val_fn: 3.0000 - val_accuracy: 0.9867 - val_precision: 0.1037 - val_recall: 0.9589 - val_auc: 0.9967 - val_f1_m: 0.1866\n",
      "Epoch 77/100\n"
     ]
    },
    {
     "name": "stdout",
     "output_type": "stream",
     "text": [
      "90/90 [==============================] - 1s 6ms/step - loss: 0.3183 - tp: 274.0000 - fp: 5850.0000 - tn: 176104.0000 - fn: 48.0000 - accuracy: 0.9676 - precision: 0.0447 - recall: 0.8509 - auc: 0.9524 - f1_m: 0.0830 - val_loss: 0.0619 - val_tp: 70.0000 - val_fp: 538.0000 - val_tn: 44958.0000 - val_fn: 3.0000 - val_accuracy: 0.9881 - val_precision: 0.1151 - val_recall: 0.9589 - val_auc: 0.9966 - val_f1_m: 0.2031\n",
      "Epoch 78/100\n",
      "90/90 [==============================] - 1s 6ms/step - loss: 0.2798 - tp: 277.0000 - fp: 5809.0000 - tn: 176145.0000 - fn: 45.0000 - accuracy: 0.9679 - precision: 0.0455 - recall: 0.8602 - auc: 0.9598 - f1_m: 0.0843 - val_loss: 0.0613 - val_tp: 70.0000 - val_fp: 529.0000 - val_tn: 44967.0000 - val_fn: 3.0000 - val_accuracy: 0.9883 - val_precision: 0.1169 - val_recall: 0.9589 - val_auc: 0.9966 - val_f1_m: 0.2060\n",
      "Epoch 79/100\n",
      "90/90 [==============================] - 1s 6ms/step - loss: 0.3543 - tp: 266.0000 - fp: 5714.0000 - tn: 176240.0000 - fn: 56.0000 - accuracy: 0.9683 - precision: 0.0445 - recall: 0.8261 - auc: 0.9456 - f1_m: 0.0815 - val_loss: 0.0637 - val_tp: 70.0000 - val_fp: 558.0000 - val_tn: 44938.0000 - val_fn: 3.0000 - val_accuracy: 0.9877 - val_precision: 0.1115 - val_recall: 0.9589 - val_auc: 0.9966 - val_f1_m: 0.1950\n",
      "Epoch 80/100\n",
      "90/90 [==============================] - 1s 6ms/step - loss: 0.2796 - tp: 280.0000 - fp: 5889.0000 - tn: 176065.0000 - fn: 42.0000 - accuracy: 0.9675 - precision: 0.0454 - recall: 0.8696 - auc: 0.9584 - f1_m: 0.0843 - val_loss: 0.0650 - val_tp: 70.0000 - val_fp: 592.0000 - val_tn: 44904.0000 - val_fn: 3.0000 - val_accuracy: 0.9869 - val_precision: 0.1057 - val_recall: 0.9589 - val_auc: 0.9967 - val_f1_m: 0.1863\n",
      "Epoch 81/100\n",
      "90/90 [==============================] - 1s 6ms/step - loss: 0.2532 - tp: 281.0000 - fp: 5947.0000 - tn: 176007.0000 - fn: 41.0000 - accuracy: 0.9671 - precision: 0.0451 - recall: 0.8727 - auc: 0.9658 - f1_m: 0.0838 - val_loss: 0.0652 - val_tp: 70.0000 - val_fp: 584.0000 - val_tn: 44912.0000 - val_fn: 3.0000 - val_accuracy: 0.9871 - val_precision: 0.1070 - val_recall: 0.9589 - val_auc: 0.9965 - val_f1_m: 0.1886\n",
      "Epoch 82/100\n",
      "90/90 [==============================] - 1s 6ms/step - loss: 0.2453 - tp: 286.0000 - fp: 6007.0000 - tn: 175947.0000 - fn: 36.0000 - accuracy: 0.9668 - precision: 0.0454 - recall: 0.8882 - auc: 0.9658 - f1_m: 0.0843 - val_loss: 0.0630 - val_tp: 70.0000 - val_fp: 558.0000 - val_tn: 44938.0000 - val_fn: 3.0000 - val_accuracy: 0.9877 - val_precision: 0.1115 - val_recall: 0.9589 - val_auc: 0.9966 - val_f1_m: 0.1958\n",
      "Epoch 83/100\n",
      "83/90 [==========================>...] - ETA: 0s - loss: 0.2630 - tp: 263.0000 - fp: 5169.0000 - tn: 164513.0000 - fn: 39.0000 - accuracy: 0.9694 - precision: 0.0484 - recall: 0.8709 - auc: 0.9646 - f1_m: 0.0902Restoring model weights from the end of the best epoch.\n",
      "90/90 [==============================] - 1s 6ms/step - loss: 0.2749 - tp: 279.0000 - fp: 5544.0000 - tn: 176410.0000 - fn: 43.0000 - accuracy: 0.9693 - precision: 0.0479 - recall: 0.8665 - auc: 0.9614 - f1_m: 0.0884 - val_loss: 0.0605 - val_tp: 70.0000 - val_fp: 533.0000 - val_tn: 44963.0000 - val_fn: 3.0000 - val_accuracy: 0.9882 - val_precision: 0.1161 - val_recall: 0.9589 - val_auc: 0.9966 - val_f1_m: 0.2030\n",
      "Epoch 00083: early stopping\n"
     ]
    }
   ],
   "source": [
    "weighted_model = make_model()\n",
    "weighted_model.load_weights(initial_weights)\n",
    "\n",
    "weighted_history = weighted_model.fit(\n",
    "    train_features,\n",
    "    train_labels,\n",
    "    batch_size=BATCH_SIZE,\n",
    "    epochs=EPOCHS,\n",
    "    callbacks = [early_stopping],\n",
    "    validation_data=(val_features, val_labels),\n",
    "    # The class weights go here\n",
    "    class_weight=class_weight) "
   ]
  },
  {
   "cell_type": "code",
   "execution_count": 34,
   "metadata": {},
   "outputs": [
    {
     "data": {
      "image/png": "[encoded data removed]",
      "text/plain": [
       "<Figure size 864x720 with 4 Axes>"
      ]
     },
     "metadata": {
      "needs_background": "light"
     },
     "output_type": "display_data"
    }
   ],
   "source": [
    "plot_metrics(weighted_history)"
   ]
  },
  {
   "cell_type": "code",
   "execution_count": 35,
   "metadata": {},
   "outputs": [],
   "source": [
    "train_predictions_weighted = weighted_model.predict(train_features, batch_size=BATCH_SIZE)\n",
    "test_predictions_weighted = weighted_model.predict(test_features, batch_size=BATCH_SIZE)"
   ]
  },
  {
   "cell_type": "code",
   "execution_count": 36,
   "metadata": {
    "scrolled": true
   },
   "outputs": [
    {
     "data": {
      "image/png": "[encoded data removed]",
      "text/plain": [
       "<Figure size 360x360 with 2 Axes>"
      ]
     },
     "metadata": {
      "needs_background": "light"
     },
     "output_type": "display_data"
    }
   ],
   "source": [
    "plot_cm(test_labels, test_predictions_weighted)"
   ]
  },
  {
   "cell_type": "code",
   "execution_count": 38,
   "metadata": {},
   "outputs": [],
   "source": [
    "train_predictions_weighted = model.predict(train_features, batch_size=BATCH_SIZE)\n",
    "test_predictions_weighted = model.predict(test_features, batch_size=BATCH_SIZE)"
   ]
  },
  {
   "cell_type": "code",
   "execution_count": 39,
   "metadata": {},
   "outputs": [
    {
     "data": {
      "image/png": "[encoded data removed]",
      "text/plain": [
       "<Figure size 360x360 with 2 Axes>"
      ]
     },
     "metadata": {
      "needs_background": "light"
     },
     "output_type": "display_data"
    }
   ],
   "source": [
    "plot_cm(test_labels, test_predictions_weighted)"
   ]
  },
  {
   "cell_type": "code",
   "execution_count": null,
   "metadata": {},
   "outputs": [],
   "source": []
  }
 ],
 "metadata": {
  "kernelspec": {
   "display_name": "Python 3",
   "language": "python",
   "name": "python3"
  },
  "language_info": {
   "codemirror_mode": {
    "name": "ipython",
    "version": 3
   },
   "file_extension": ".py",
   "mimetype": "text/x-python",
   "name": "python",
   "nbconvert_exporter": "python",
   "pygments_lexer": "ipython3",
   "version": "3.7.5"
  }
 },
 "nbformat": 4,
 "nbformat_minor": 2
}
